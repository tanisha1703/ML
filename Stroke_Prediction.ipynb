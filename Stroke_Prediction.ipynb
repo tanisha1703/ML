{
  "cells": [
    {
      "cell_type": "code",
      "execution_count": null,
      "metadata": {
        "id": "Qh78Iec7Esql"
      },
      "outputs": [],
      "source": [
        "import pandas as pd\n",
        "import numpy as np\n",
        "import seaborn as sns\n",
        "import matplotlib.pyplot as plt\n",
        "sns.set_theme(color_codes=True)"
      ]
    },
    {
      "cell_type": "markdown",
      "metadata": {
        "id": "a9WSTE_AwM__"
      },
      "source": [
        "Dataset : https://www.kaggle.com/datasets/fedesoriano/stroke-prediction-dataset"
      ]
    },
    {
      "cell_type": "code",
      "execution_count": null,
      "metadata": {
        "colab": {
          "base_uri": "https://localhost:8080/",
          "height": 305
        },
        "id": "fISAQUFGHlh-",
        "outputId": "369ac087-0203-4406-aedc-b582fe752e42"
      },
      "outputs": [
        {
          "output_type": "execute_result",
          "data": {
            "text/plain": [
              "      id  gender   age  hypertension  heart_disease ever_married  \\\n",
              "0   9046    Male  67.0             0              1          Yes   \n",
              "1  51676  Female  61.0             0              0          Yes   \n",
              "2  31112    Male  80.0             0              1          Yes   \n",
              "3  60182  Female  49.0             0              0          Yes   \n",
              "4   1665  Female  79.0             1              0          Yes   \n",
              "\n",
              "       work_type Residence_type  avg_glucose_level   bmi   smoking_status  \\\n",
              "0        Private          Urban             228.69  36.6  formerly smoked   \n",
              "1  Self-employed          Rural             202.21   NaN     never smoked   \n",
              "2        Private          Rural             105.92  32.5     never smoked   \n",
              "3        Private          Urban             171.23  34.4           smokes   \n",
              "4  Self-employed          Rural             174.12  24.0     never smoked   \n",
              "\n",
              "   stroke  \n",
              "0       1  \n",
              "1       1  \n",
              "2       1  \n",
              "3       1  \n",
              "4       1  "
            ],
            "text/html": [
              "\n",
              "  <div id=\"df-c2e7f581-d38a-4fe8-ac8b-10b9ef1f898f\">\n",
              "    <div class=\"colab-df-container\">\n",
              "      <div>\n",
              "<style scoped>\n",
              "    .dataframe tbody tr th:only-of-type {\n",
              "        vertical-align: middle;\n",
              "    }\n",
              "\n",
              "    .dataframe tbody tr th {\n",
              "        vertical-align: top;\n",
              "    }\n",
              "\n",
              "    .dataframe thead th {\n",
              "        text-align: right;\n",
              "    }\n",
              "</style>\n",
              "<table border=\"1\" class=\"dataframe\">\n",
              "  <thead>\n",
              "    <tr style=\"text-align: right;\">\n",
              "      <th></th>\n",
              "      <th>id</th>\n",
              "      <th>gender</th>\n",
              "      <th>age</th>\n",
              "      <th>hypertension</th>\n",
              "      <th>heart_disease</th>\n",
              "      <th>ever_married</th>\n",
              "      <th>work_type</th>\n",
              "      <th>Residence_type</th>\n",
              "      <th>avg_glucose_level</th>\n",
              "      <th>bmi</th>\n",
              "      <th>smoking_status</th>\n",
              "      <th>stroke</th>\n",
              "    </tr>\n",
              "  </thead>\n",
              "  <tbody>\n",
              "    <tr>\n",
              "      <th>0</th>\n",
              "      <td>9046</td>\n",
              "      <td>Male</td>\n",
              "      <td>67.0</td>\n",
              "      <td>0</td>\n",
              "      <td>1</td>\n",
              "      <td>Yes</td>\n",
              "      <td>Private</td>\n",
              "      <td>Urban</td>\n",
              "      <td>228.69</td>\n",
              "      <td>36.6</td>\n",
              "      <td>formerly smoked</td>\n",
              "      <td>1</td>\n",
              "    </tr>\n",
              "    <tr>\n",
              "      <th>1</th>\n",
              "      <td>51676</td>\n",
              "      <td>Female</td>\n",
              "      <td>61.0</td>\n",
              "      <td>0</td>\n",
              "      <td>0</td>\n",
              "      <td>Yes</td>\n",
              "      <td>Self-employed</td>\n",
              "      <td>Rural</td>\n",
              "      <td>202.21</td>\n",
              "      <td>NaN</td>\n",
              "      <td>never smoked</td>\n",
              "      <td>1</td>\n",
              "    </tr>\n",
              "    <tr>\n",
              "      <th>2</th>\n",
              "      <td>31112</td>\n",
              "      <td>Male</td>\n",
              "      <td>80.0</td>\n",
              "      <td>0</td>\n",
              "      <td>1</td>\n",
              "      <td>Yes</td>\n",
              "      <td>Private</td>\n",
              "      <td>Rural</td>\n",
              "      <td>105.92</td>\n",
              "      <td>32.5</td>\n",
              "      <td>never smoked</td>\n",
              "      <td>1</td>\n",
              "    </tr>\n",
              "    <tr>\n",
              "      <th>3</th>\n",
              "      <td>60182</td>\n",
              "      <td>Female</td>\n",
              "      <td>49.0</td>\n",
              "      <td>0</td>\n",
              "      <td>0</td>\n",
              "      <td>Yes</td>\n",
              "      <td>Private</td>\n",
              "      <td>Urban</td>\n",
              "      <td>171.23</td>\n",
              "      <td>34.4</td>\n",
              "      <td>smokes</td>\n",
              "      <td>1</td>\n",
              "    </tr>\n",
              "    <tr>\n",
              "      <th>4</th>\n",
              "      <td>1665</td>\n",
              "      <td>Female</td>\n",
              "      <td>79.0</td>\n",
              "      <td>1</td>\n",
              "      <td>0</td>\n",
              "      <td>Yes</td>\n",
              "      <td>Self-employed</td>\n",
              "      <td>Rural</td>\n",
              "      <td>174.12</td>\n",
              "      <td>24.0</td>\n",
              "      <td>never smoked</td>\n",
              "      <td>1</td>\n",
              "    </tr>\n",
              "  </tbody>\n",
              "</table>\n",
              "</div>\n",
              "      <button class=\"colab-df-convert\" onclick=\"convertToInteractive('df-c2e7f581-d38a-4fe8-ac8b-10b9ef1f898f')\"\n",
              "              title=\"Convert this dataframe to an interactive table.\"\n",
              "              style=\"display:none;\">\n",
              "        \n",
              "  <svg xmlns=\"http://www.w3.org/2000/svg\" height=\"24px\"viewBox=\"0 0 24 24\"\n",
              "       width=\"24px\">\n",
              "    <path d=\"M0 0h24v24H0V0z\" fill=\"none\"/>\n",
              "    <path d=\"M18.56 5.44l.94 2.06.94-2.06 2.06-.94-2.06-.94-.94-2.06-.94 2.06-2.06.94zm-11 1L8.5 8.5l.94-2.06 2.06-.94-2.06-.94L8.5 2.5l-.94 2.06-2.06.94zm10 10l.94 2.06.94-2.06 2.06-.94-2.06-.94-.94-2.06-.94 2.06-2.06.94z\"/><path d=\"M17.41 7.96l-1.37-1.37c-.4-.4-.92-.59-1.43-.59-.52 0-1.04.2-1.43.59L10.3 9.45l-7.72 7.72c-.78.78-.78 2.05 0 2.83L4 21.41c.39.39.9.59 1.41.59.51 0 1.02-.2 1.41-.59l7.78-7.78 2.81-2.81c.8-.78.8-2.07 0-2.86zM5.41 20L4 18.59l7.72-7.72 1.47 1.35L5.41 20z\"/>\n",
              "  </svg>\n",
              "      </button>\n",
              "      \n",
              "  <style>\n",
              "    .colab-df-container {\n",
              "      display:flex;\n",
              "      flex-wrap:wrap;\n",
              "      gap: 12px;\n",
              "    }\n",
              "\n",
              "    .colab-df-convert {\n",
              "      background-color: #E8F0FE;\n",
              "      border: none;\n",
              "      border-radius: 50%;\n",
              "      cursor: pointer;\n",
              "      display: none;\n",
              "      fill: #1967D2;\n",
              "      height: 32px;\n",
              "      padding: 0 0 0 0;\n",
              "      width: 32px;\n",
              "    }\n",
              "\n",
              "    .colab-df-convert:hover {\n",
              "      background-color: #E2EBFA;\n",
              "      box-shadow: 0px 1px 2px rgba(60, 64, 67, 0.3), 0px 1px 3px 1px rgba(60, 64, 67, 0.15);\n",
              "      fill: #174EA6;\n",
              "    }\n",
              "\n",
              "    [theme=dark] .colab-df-convert {\n",
              "      background-color: #3B4455;\n",
              "      fill: #D2E3FC;\n",
              "    }\n",
              "\n",
              "    [theme=dark] .colab-df-convert:hover {\n",
              "      background-color: #434B5C;\n",
              "      box-shadow: 0px 1px 3px 1px rgba(0, 0, 0, 0.15);\n",
              "      filter: drop-shadow(0px 1px 2px rgba(0, 0, 0, 0.3));\n",
              "      fill: #FFFFFF;\n",
              "    }\n",
              "  </style>\n",
              "\n",
              "      <script>\n",
              "        const buttonEl =\n",
              "          document.querySelector('#df-c2e7f581-d38a-4fe8-ac8b-10b9ef1f898f button.colab-df-convert');\n",
              "        buttonEl.style.display =\n",
              "          google.colab.kernel.accessAllowed ? 'block' : 'none';\n",
              "\n",
              "        async function convertToInteractive(key) {\n",
              "          const element = document.querySelector('#df-c2e7f581-d38a-4fe8-ac8b-10b9ef1f898f');\n",
              "          const dataTable =\n",
              "            await google.colab.kernel.invokeFunction('convertToInteractive',\n",
              "                                                     [key], {});\n",
              "          if (!dataTable) return;\n",
              "\n",
              "          const docLinkHtml = 'Like what you see? Visit the ' +\n",
              "            '<a target=\"_blank\" href=https://colab.research.google.com/notebooks/data_table.ipynb>data table notebook</a>'\n",
              "            + ' to learn more about interactive tables.';\n",
              "          element.innerHTML = '';\n",
              "          dataTable['output_type'] = 'display_data';\n",
              "          await google.colab.output.renderOutput(dataTable, element);\n",
              "          const docLink = document.createElement('div');\n",
              "          docLink.innerHTML = docLinkHtml;\n",
              "          element.appendChild(docLink);\n",
              "        }\n",
              "      </script>\n",
              "    </div>\n",
              "  </div>\n",
              "  "
            ]
          },
          "metadata": {},
          "execution_count": 2
        }
      ],
      "source": [
        "df = pd.read_csv('healthcare-dataset-stroke-data.csv')\n",
        "df.head()"
      ]
    },
    {
      "cell_type": "markdown",
      "metadata": {
        "id": "u1_Ni8umK1_V"
      },
      "source": [
        "#Exploratory Data Analysis"
      ]
    },
    {
      "cell_type": "code",
      "execution_count": null,
      "metadata": {
        "colab": {
          "base_uri": "https://localhost:8080/"
        },
        "id": "gkIejvpmH0uJ",
        "outputId": "98bb185d-1287-40a9-a777-616e962cb00b"
      },
      "outputs": [
        {
          "output_type": "execute_result",
          "data": {
            "text/plain": [
              "id                     0\n",
              "gender                 0\n",
              "age                    0\n",
              "hypertension           0\n",
              "heart_disease          0\n",
              "ever_married           0\n",
              "work_type              0\n",
              "Residence_type         0\n",
              "avg_glucose_level      0\n",
              "bmi                  201\n",
              "smoking_status         0\n",
              "stroke                 0\n",
              "dtype: int64"
            ]
          },
          "metadata": {},
          "execution_count": 3
        }
      ],
      "source": [
        "df.isnull().sum()"
      ]
    },
    {
      "cell_type": "code",
      "execution_count": null,
      "metadata": {
        "colab": {
          "base_uri": "https://localhost:8080/"
        },
        "id": "bafgQM8rIPst",
        "outputId": "0c64953f-82c9-491b-d880-d5328c316a14"
      },
      "outputs": [
        {
          "output_type": "execute_result",
          "data": {
            "text/plain": [
              "id                     int64\n",
              "gender                object\n",
              "age                  float64\n",
              "hypertension           int64\n",
              "heart_disease          int64\n",
              "ever_married          object\n",
              "work_type             object\n",
              "Residence_type        object\n",
              "avg_glucose_level    float64\n",
              "bmi                  float64\n",
              "smoking_status        object\n",
              "stroke                 int64\n",
              "dtype: object"
            ]
          },
          "metadata": {},
          "execution_count": 4
        }
      ],
      "source": [
        "df.dtypes"
      ]
    },
    {
      "cell_type": "code",
      "execution_count": null,
      "metadata": {
        "colab": {
          "base_uri": "https://localhost:8080/"
        },
        "id": "4cckReZJJzyq",
        "outputId": "0d497f02-bbbf-4e04-de3a-ede9d711afcd"
      },
      "outputs": [
        {
          "output_type": "execute_result",
          "data": {
            "text/plain": [
              "id                   0\n",
              "gender               0\n",
              "age                  0\n",
              "hypertension         0\n",
              "heart_disease        0\n",
              "ever_married         0\n",
              "work_type            0\n",
              "Residence_type       0\n",
              "avg_glucose_level    0\n",
              "bmi                  0\n",
              "smoking_status       0\n",
              "stroke               0\n",
              "dtype: int64"
            ]
          },
          "metadata": {},
          "execution_count": 5
        }
      ],
      "source": [
        "df['bmi'].fillna(int(df['bmi'].mean()), inplace=True)\n",
        "df.isnull().sum()"
      ]
    },
    {
      "cell_type": "code",
      "execution_count": null,
      "metadata": {
        "colab": {
          "base_uri": "https://localhost:8080/",
          "height": 305
        },
        "id": "krgfrlMrKD6w",
        "outputId": "b6d736d2-e10a-4136-c83c-1c78306b169f"
      },
      "outputs": [
        {
          "output_type": "execute_result",
          "data": {
            "text/plain": [
              "   gender   age  hypertension  heart_disease ever_married      work_type  \\\n",
              "0    Male  67.0             0              1          Yes        Private   \n",
              "1  Female  61.0             0              0          Yes  Self-employed   \n",
              "2    Male  80.0             0              1          Yes        Private   \n",
              "3  Female  49.0             0              0          Yes        Private   \n",
              "4  Female  79.0             1              0          Yes  Self-employed   \n",
              "\n",
              "  Residence_type  avg_glucose_level   bmi   smoking_status  stroke  \n",
              "0          Urban             228.69  36.6  formerly smoked       1  \n",
              "1          Rural             202.21  28.0     never smoked       1  \n",
              "2          Rural             105.92  32.5     never smoked       1  \n",
              "3          Urban             171.23  34.4           smokes       1  \n",
              "4          Rural             174.12  24.0     never smoked       1  "
            ],
            "text/html": [
              "\n",
              "  <div id=\"df-743fe389-8aa0-4591-bbba-01ab9e86e7a3\">\n",
              "    <div class=\"colab-df-container\">\n",
              "      <div>\n",
              "<style scoped>\n",
              "    .dataframe tbody tr th:only-of-type {\n",
              "        vertical-align: middle;\n",
              "    }\n",
              "\n",
              "    .dataframe tbody tr th {\n",
              "        vertical-align: top;\n",
              "    }\n",
              "\n",
              "    .dataframe thead th {\n",
              "        text-align: right;\n",
              "    }\n",
              "</style>\n",
              "<table border=\"1\" class=\"dataframe\">\n",
              "  <thead>\n",
              "    <tr style=\"text-align: right;\">\n",
              "      <th></th>\n",
              "      <th>gender</th>\n",
              "      <th>age</th>\n",
              "      <th>hypertension</th>\n",
              "      <th>heart_disease</th>\n",
              "      <th>ever_married</th>\n",
              "      <th>work_type</th>\n",
              "      <th>Residence_type</th>\n",
              "      <th>avg_glucose_level</th>\n",
              "      <th>bmi</th>\n",
              "      <th>smoking_status</th>\n",
              "      <th>stroke</th>\n",
              "    </tr>\n",
              "  </thead>\n",
              "  <tbody>\n",
              "    <tr>\n",
              "      <th>0</th>\n",
              "      <td>Male</td>\n",
              "      <td>67.0</td>\n",
              "      <td>0</td>\n",
              "      <td>1</td>\n",
              "      <td>Yes</td>\n",
              "      <td>Private</td>\n",
              "      <td>Urban</td>\n",
              "      <td>228.69</td>\n",
              "      <td>36.6</td>\n",
              "      <td>formerly smoked</td>\n",
              "      <td>1</td>\n",
              "    </tr>\n",
              "    <tr>\n",
              "      <th>1</th>\n",
              "      <td>Female</td>\n",
              "      <td>61.0</td>\n",
              "      <td>0</td>\n",
              "      <td>0</td>\n",
              "      <td>Yes</td>\n",
              "      <td>Self-employed</td>\n",
              "      <td>Rural</td>\n",
              "      <td>202.21</td>\n",
              "      <td>28.0</td>\n",
              "      <td>never smoked</td>\n",
              "      <td>1</td>\n",
              "    </tr>\n",
              "    <tr>\n",
              "      <th>2</th>\n",
              "      <td>Male</td>\n",
              "      <td>80.0</td>\n",
              "      <td>0</td>\n",
              "      <td>1</td>\n",
              "      <td>Yes</td>\n",
              "      <td>Private</td>\n",
              "      <td>Rural</td>\n",
              "      <td>105.92</td>\n",
              "      <td>32.5</td>\n",
              "      <td>never smoked</td>\n",
              "      <td>1</td>\n",
              "    </tr>\n",
              "    <tr>\n",
              "      <th>3</th>\n",
              "      <td>Female</td>\n",
              "      <td>49.0</td>\n",
              "      <td>0</td>\n",
              "      <td>0</td>\n",
              "      <td>Yes</td>\n",
              "      <td>Private</td>\n",
              "      <td>Urban</td>\n",
              "      <td>171.23</td>\n",
              "      <td>34.4</td>\n",
              "      <td>smokes</td>\n",
              "      <td>1</td>\n",
              "    </tr>\n",
              "    <tr>\n",
              "      <th>4</th>\n",
              "      <td>Female</td>\n",
              "      <td>79.0</td>\n",
              "      <td>1</td>\n",
              "      <td>0</td>\n",
              "      <td>Yes</td>\n",
              "      <td>Self-employed</td>\n",
              "      <td>Rural</td>\n",
              "      <td>174.12</td>\n",
              "      <td>24.0</td>\n",
              "      <td>never smoked</td>\n",
              "      <td>1</td>\n",
              "    </tr>\n",
              "  </tbody>\n",
              "</table>\n",
              "</div>\n",
              "      <button class=\"colab-df-convert\" onclick=\"convertToInteractive('df-743fe389-8aa0-4591-bbba-01ab9e86e7a3')\"\n",
              "              title=\"Convert this dataframe to an interactive table.\"\n",
              "              style=\"display:none;\">\n",
              "        \n",
              "  <svg xmlns=\"http://www.w3.org/2000/svg\" height=\"24px\"viewBox=\"0 0 24 24\"\n",
              "       width=\"24px\">\n",
              "    <path d=\"M0 0h24v24H0V0z\" fill=\"none\"/>\n",
              "    <path d=\"M18.56 5.44l.94 2.06.94-2.06 2.06-.94-2.06-.94-.94-2.06-.94 2.06-2.06.94zm-11 1L8.5 8.5l.94-2.06 2.06-.94-2.06-.94L8.5 2.5l-.94 2.06-2.06.94zm10 10l.94 2.06.94-2.06 2.06-.94-2.06-.94-.94-2.06-.94 2.06-2.06.94z\"/><path d=\"M17.41 7.96l-1.37-1.37c-.4-.4-.92-.59-1.43-.59-.52 0-1.04.2-1.43.59L10.3 9.45l-7.72 7.72c-.78.78-.78 2.05 0 2.83L4 21.41c.39.39.9.59 1.41.59.51 0 1.02-.2 1.41-.59l7.78-7.78 2.81-2.81c.8-.78.8-2.07 0-2.86zM5.41 20L4 18.59l7.72-7.72 1.47 1.35L5.41 20z\"/>\n",
              "  </svg>\n",
              "      </button>\n",
              "      \n",
              "  <style>\n",
              "    .colab-df-container {\n",
              "      display:flex;\n",
              "      flex-wrap:wrap;\n",
              "      gap: 12px;\n",
              "    }\n",
              "\n",
              "    .colab-df-convert {\n",
              "      background-color: #E8F0FE;\n",
              "      border: none;\n",
              "      border-radius: 50%;\n",
              "      cursor: pointer;\n",
              "      display: none;\n",
              "      fill: #1967D2;\n",
              "      height: 32px;\n",
              "      padding: 0 0 0 0;\n",
              "      width: 32px;\n",
              "    }\n",
              "\n",
              "    .colab-df-convert:hover {\n",
              "      background-color: #E2EBFA;\n",
              "      box-shadow: 0px 1px 2px rgba(60, 64, 67, 0.3), 0px 1px 3px 1px rgba(60, 64, 67, 0.15);\n",
              "      fill: #174EA6;\n",
              "    }\n",
              "\n",
              "    [theme=dark] .colab-df-convert {\n",
              "      background-color: #3B4455;\n",
              "      fill: #D2E3FC;\n",
              "    }\n",
              "\n",
              "    [theme=dark] .colab-df-convert:hover {\n",
              "      background-color: #434B5C;\n",
              "      box-shadow: 0px 1px 3px 1px rgba(0, 0, 0, 0.15);\n",
              "      filter: drop-shadow(0px 1px 2px rgba(0, 0, 0, 0.3));\n",
              "      fill: #FFFFFF;\n",
              "    }\n",
              "  </style>\n",
              "\n",
              "      <script>\n",
              "        const buttonEl =\n",
              "          document.querySelector('#df-743fe389-8aa0-4591-bbba-01ab9e86e7a3 button.colab-df-convert');\n",
              "        buttonEl.style.display =\n",
              "          google.colab.kernel.accessAllowed ? 'block' : 'none';\n",
              "\n",
              "        async function convertToInteractive(key) {\n",
              "          const element = document.querySelector('#df-743fe389-8aa0-4591-bbba-01ab9e86e7a3');\n",
              "          const dataTable =\n",
              "            await google.colab.kernel.invokeFunction('convertToInteractive',\n",
              "                                                     [key], {});\n",
              "          if (!dataTable) return;\n",
              "\n",
              "          const docLinkHtml = 'Like what you see? Visit the ' +\n",
              "            '<a target=\"_blank\" href=https://colab.research.google.com/notebooks/data_table.ipynb>data table notebook</a>'\n",
              "            + ' to learn more about interactive tables.';\n",
              "          element.innerHTML = '';\n",
              "          dataTable['output_type'] = 'display_data';\n",
              "          await google.colab.output.renderOutput(dataTable, element);\n",
              "          const docLink = document.createElement('div');\n",
              "          docLink.innerHTML = docLinkHtml;\n",
              "          element.appendChild(docLink);\n",
              "        }\n",
              "      </script>\n",
              "    </div>\n",
              "  </div>\n",
              "  "
            ]
          },
          "metadata": {},
          "execution_count": 6
        }
      ],
      "source": [
        "df2 = df.drop('id', axis=1)\n",
        "df2.head()"
      ]
    },
    {
      "cell_type": "code",
      "execution_count": null,
      "metadata": {
        "colab": {
          "base_uri": "https://localhost:8080/",
          "height": 270
        },
        "id": "DNQF11Z5K80t",
        "outputId": "fdd781d4-c882-4118-e9a7-ba59a6387058"
      },
      "outputs": [
        {
          "output_type": "execute_result",
          "data": {
            "text/plain": [
              "  gender   age  hypertension  heart_disease ever_married work_type  \\\n",
              "0      1  67.0             0              1            1         3   \n",
              "1      0  61.0             0              0            1         4   \n",
              "2      1  80.0             0              1            1         3   \n",
              "3      0  49.0             0              0            1         3   \n",
              "4      0  79.0             1              0            1         4   \n",
              "\n",
              "  Residence_type  avg_glucose_level   bmi smoking_status  stroke  \n",
              "0              1             228.69  36.6              1       1  \n",
              "1              0             202.21  28.0              0       1  \n",
              "2              0             105.92  32.5              0       1  \n",
              "3              1             171.23  34.4              2       1  \n",
              "4              0             174.12  24.0              0       1  "
            ],
            "text/html": [
              "\n",
              "  <div id=\"df-29f13099-574a-4f1c-b173-12793f0df0a6\">\n",
              "    <div class=\"colab-df-container\">\n",
              "      <div>\n",
              "<style scoped>\n",
              "    .dataframe tbody tr th:only-of-type {\n",
              "        vertical-align: middle;\n",
              "    }\n",
              "\n",
              "    .dataframe tbody tr th {\n",
              "        vertical-align: top;\n",
              "    }\n",
              "\n",
              "    .dataframe thead th {\n",
              "        text-align: right;\n",
              "    }\n",
              "</style>\n",
              "<table border=\"1\" class=\"dataframe\">\n",
              "  <thead>\n",
              "    <tr style=\"text-align: right;\">\n",
              "      <th></th>\n",
              "      <th>gender</th>\n",
              "      <th>age</th>\n",
              "      <th>hypertension</th>\n",
              "      <th>heart_disease</th>\n",
              "      <th>ever_married</th>\n",
              "      <th>work_type</th>\n",
              "      <th>Residence_type</th>\n",
              "      <th>avg_glucose_level</th>\n",
              "      <th>bmi</th>\n",
              "      <th>smoking_status</th>\n",
              "      <th>stroke</th>\n",
              "    </tr>\n",
              "  </thead>\n",
              "  <tbody>\n",
              "    <tr>\n",
              "      <th>0</th>\n",
              "      <td>1</td>\n",
              "      <td>67.0</td>\n",
              "      <td>0</td>\n",
              "      <td>1</td>\n",
              "      <td>1</td>\n",
              "      <td>3</td>\n",
              "      <td>1</td>\n",
              "      <td>228.69</td>\n",
              "      <td>36.6</td>\n",
              "      <td>1</td>\n",
              "      <td>1</td>\n",
              "    </tr>\n",
              "    <tr>\n",
              "      <th>1</th>\n",
              "      <td>0</td>\n",
              "      <td>61.0</td>\n",
              "      <td>0</td>\n",
              "      <td>0</td>\n",
              "      <td>1</td>\n",
              "      <td>4</td>\n",
              "      <td>0</td>\n",
              "      <td>202.21</td>\n",
              "      <td>28.0</td>\n",
              "      <td>0</td>\n",
              "      <td>1</td>\n",
              "    </tr>\n",
              "    <tr>\n",
              "      <th>2</th>\n",
              "      <td>1</td>\n",
              "      <td>80.0</td>\n",
              "      <td>0</td>\n",
              "      <td>1</td>\n",
              "      <td>1</td>\n",
              "      <td>3</td>\n",
              "      <td>0</td>\n",
              "      <td>105.92</td>\n",
              "      <td>32.5</td>\n",
              "      <td>0</td>\n",
              "      <td>1</td>\n",
              "    </tr>\n",
              "    <tr>\n",
              "      <th>3</th>\n",
              "      <td>0</td>\n",
              "      <td>49.0</td>\n",
              "      <td>0</td>\n",
              "      <td>0</td>\n",
              "      <td>1</td>\n",
              "      <td>3</td>\n",
              "      <td>1</td>\n",
              "      <td>171.23</td>\n",
              "      <td>34.4</td>\n",
              "      <td>2</td>\n",
              "      <td>1</td>\n",
              "    </tr>\n",
              "    <tr>\n",
              "      <th>4</th>\n",
              "      <td>0</td>\n",
              "      <td>79.0</td>\n",
              "      <td>1</td>\n",
              "      <td>0</td>\n",
              "      <td>1</td>\n",
              "      <td>4</td>\n",
              "      <td>0</td>\n",
              "      <td>174.12</td>\n",
              "      <td>24.0</td>\n",
              "      <td>0</td>\n",
              "      <td>1</td>\n",
              "    </tr>\n",
              "  </tbody>\n",
              "</table>\n",
              "</div>\n",
              "      <button class=\"colab-df-convert\" onclick=\"convertToInteractive('df-29f13099-574a-4f1c-b173-12793f0df0a6')\"\n",
              "              title=\"Convert this dataframe to an interactive table.\"\n",
              "              style=\"display:none;\">\n",
              "        \n",
              "  <svg xmlns=\"http://www.w3.org/2000/svg\" height=\"24px\"viewBox=\"0 0 24 24\"\n",
              "       width=\"24px\">\n",
              "    <path d=\"M0 0h24v24H0V0z\" fill=\"none\"/>\n",
              "    <path d=\"M18.56 5.44l.94 2.06.94-2.06 2.06-.94-2.06-.94-.94-2.06-.94 2.06-2.06.94zm-11 1L8.5 8.5l.94-2.06 2.06-.94-2.06-.94L8.5 2.5l-.94 2.06-2.06.94zm10 10l.94 2.06.94-2.06 2.06-.94-2.06-.94-.94-2.06-.94 2.06-2.06.94z\"/><path d=\"M17.41 7.96l-1.37-1.37c-.4-.4-.92-.59-1.43-.59-.52 0-1.04.2-1.43.59L10.3 9.45l-7.72 7.72c-.78.78-.78 2.05 0 2.83L4 21.41c.39.39.9.59 1.41.59.51 0 1.02-.2 1.41-.59l7.78-7.78 2.81-2.81c.8-.78.8-2.07 0-2.86zM5.41 20L4 18.59l7.72-7.72 1.47 1.35L5.41 20z\"/>\n",
              "  </svg>\n",
              "      </button>\n",
              "      \n",
              "  <style>\n",
              "    .colab-df-container {\n",
              "      display:flex;\n",
              "      flex-wrap:wrap;\n",
              "      gap: 12px;\n",
              "    }\n",
              "\n",
              "    .colab-df-convert {\n",
              "      background-color: #E8F0FE;\n",
              "      border: none;\n",
              "      border-radius: 50%;\n",
              "      cursor: pointer;\n",
              "      display: none;\n",
              "      fill: #1967D2;\n",
              "      height: 32px;\n",
              "      padding: 0 0 0 0;\n",
              "      width: 32px;\n",
              "    }\n",
              "\n",
              "    .colab-df-convert:hover {\n",
              "      background-color: #E2EBFA;\n",
              "      box-shadow: 0px 1px 2px rgba(60, 64, 67, 0.3), 0px 1px 3px 1px rgba(60, 64, 67, 0.15);\n",
              "      fill: #174EA6;\n",
              "    }\n",
              "\n",
              "    [theme=dark] .colab-df-convert {\n",
              "      background-color: #3B4455;\n",
              "      fill: #D2E3FC;\n",
              "    }\n",
              "\n",
              "    [theme=dark] .colab-df-convert:hover {\n",
              "      background-color: #434B5C;\n",
              "      box-shadow: 0px 1px 3px 1px rgba(0, 0, 0, 0.15);\n",
              "      filter: drop-shadow(0px 1px 2px rgba(0, 0, 0, 0.3));\n",
              "      fill: #FFFFFF;\n",
              "    }\n",
              "  </style>\n",
              "\n",
              "      <script>\n",
              "        const buttonEl =\n",
              "          document.querySelector('#df-29f13099-574a-4f1c-b173-12793f0df0a6 button.colab-df-convert');\n",
              "        buttonEl.style.display =\n",
              "          google.colab.kernel.accessAllowed ? 'block' : 'none';\n",
              "\n",
              "        async function convertToInteractive(key) {\n",
              "          const element = document.querySelector('#df-29f13099-574a-4f1c-b173-12793f0df0a6');\n",
              "          const dataTable =\n",
              "            await google.colab.kernel.invokeFunction('convertToInteractive',\n",
              "                                                     [key], {});\n",
              "          if (!dataTable) return;\n",
              "\n",
              "          const docLinkHtml = 'Like what you see? Visit the ' +\n",
              "            '<a target=\"_blank\" href=https://colab.research.google.com/notebooks/data_table.ipynb>data table notebook</a>'\n",
              "            + ' to learn more about interactive tables.';\n",
              "          element.innerHTML = '';\n",
              "          dataTable['output_type'] = 'display_data';\n",
              "          await google.colab.output.renderOutput(dataTable, element);\n",
              "          const docLink = document.createElement('div');\n",
              "          docLink.innerHTML = docLinkHtml;\n",
              "          element.appendChild(docLink);\n",
              "        }\n",
              "      </script>\n",
              "    </div>\n",
              "  </div>\n",
              "  "
            ]
          },
          "metadata": {},
          "execution_count": 7
        }
      ],
      "source": [
        "#Change value in ever_married column\n",
        "df2['ever_married'] = df2['ever_married'].replace(['No'],'0')\n",
        "df2['ever_married'] = df2['ever_married'].replace(['Yes'],'1')\n",
        "#Change value in work_type column\n",
        "df2['work_type'] = df2['work_type'].replace(['children'],'0')\n",
        "df2['work_type'] = df2['work_type'].replace(['Govt_job'],'1')\n",
        "df2['work_type'] = df2['work_type'].replace(['Never_worked'],'2')\n",
        "df2['work_type'] = df2['work_type'].replace(['Private'],'3')\n",
        "df2['work_type'] = df2['work_type'].replace(['Self-employed'],'4')\n",
        "#Change value in Residence_type column\n",
        "df2['Residence_type'] = df2['Residence_type'].replace(['Rural'],'0')\n",
        "df2['Residence_type'] = df2['Residence_type'].replace(['Urban'],'1')\n",
        "#Change value in smoking_status column\n",
        "df2['smoking_status'] = df2['smoking_status'].replace(['never smoked'],'0')\n",
        "df2['smoking_status'] = df2['smoking_status'].replace(['formerly smoked'],'1')\n",
        "df2['smoking_status'] = df2['smoking_status'].replace(['smokes'],'2')\n",
        "df2['smoking_status'] = df2['smoking_status'].replace(['Unknown'],'3')\n",
        "#Change value in gender column\n",
        "df2['gender'] = df2['gender'].replace(['Female'],'0')\n",
        "df2['gender'] = df2['gender'].replace(['Male'],'1')\n",
        "df2['gender'] = df2['gender'].replace(['Other'],'2')\n",
        "df2.head()"
      ]
    },
    {
      "cell_type": "code",
      "execution_count": null,
      "metadata": {
        "colab": {
          "base_uri": "https://localhost:8080/"
        },
        "id": "EiBxDlhDM6Z1",
        "outputId": "4f522fb3-44f1-4d7c-8c02-b4e0fb2fd18a"
      },
      "outputs": [
        {
          "output_type": "execute_result",
          "data": {
            "text/plain": [
              "gender                 int64\n",
              "age                  float64\n",
              "hypertension           int64\n",
              "heart_disease          int64\n",
              "ever_married           int64\n",
              "work_type              int64\n",
              "Residence_type         int64\n",
              "avg_glucose_level    float64\n",
              "bmi                  float64\n",
              "smoking_status         int64\n",
              "stroke                 int64\n",
              "dtype: object"
            ]
          },
          "metadata": {},
          "execution_count": 8
        }
      ],
      "source": [
        "#convert object data types column to integer\n",
        "df2['gender'] = pd.to_numeric(df2['gender'])\n",
        "df2['ever_married'] = pd.to_numeric(df2['ever_married'])\n",
        "df2['work_type'] = pd.to_numeric(df2['work_type'])\n",
        "df2['Residence_type'] = pd.to_numeric(df2['Residence_type'])\n",
        "df2['smoking_status'] = pd.to_numeric(df2['smoking_status'])\n",
        "df2.dtypes"
      ]
    },
    {
      "cell_type": "code",
      "execution_count": null,
      "metadata": {
        "colab": {
          "base_uri": "https://localhost:8080/",
          "height": 357
        },
        "id": "iuaelMzkU25X",
        "outputId": "ee4c6f74-688d-43de-ce04-57b284312626"
      },
      "outputs": [
        {
          "output_type": "stream",
          "name": "stderr",
          "text": [
            "/usr/local/lib/python3.7/dist-packages/seaborn/_decorators.py:43: FutureWarning: Pass the following variable as a keyword arg: x. From version 0.12, the only valid positional argument will be `data`, and passing other arguments without an explicit keyword will result in an error or misinterpretation.\n",
            "  FutureWarning\n"
          ]
        },
        {
          "output_type": "execute_result",
          "data": {
            "text/plain": [
              "<matplotlib.axes._subplots.AxesSubplot at 0x7fa3081f54d0>"
            ]
          },
          "metadata": {},
          "execution_count": 9
        },
        {
          "output_type": "display_data",
          "data": {
            "text/plain": [
              "<Figure size 432x288 with 1 Axes>"
            ],
            "image/png": "[encoded data removed]"
          },
          "metadata": {}
        }
      ],
      "source": [
        "#Counting 1 and 0 Value in stroke column\n",
        "sns.countplot(df2['stroke'])"
      ]
    },
    {
      "cell_type": "markdown",
      "source": [
        "#Oversampling data"
      ],
      "metadata": {
        "id": "6A4LlV5iLOzU"
      }
    },
    {
      "cell_type": "code",
      "execution_count": null,
      "metadata": {
        "id": "8sYq020dyAhV"
      },
      "outputs": [],
      "source": [
        "from sklearn.utils import resample\n",
        "#create two different dataframe of majority and minority class \n",
        "df_majority = df2[(df2['stroke']==0)] \n",
        "df_minority = df2[(df2['stroke']==1)] \n",
        "# upsample minority class\n",
        "df_minority_upsampled = resample(df_minority, \n",
        "                                 replace=True,    # sample with replacement\n",
        "                                 n_samples= 4861, # to match majority class\n",
        "                                 random_state=42)  # reproducible results\n",
        "# Combine majority class with upsampled minority class\n",
        "df_upsampled = pd.concat([df_minority_upsampled, df_majority])"
      ]
    },
    {
      "cell_type": "code",
      "execution_count": null,
      "metadata": {
        "colab": {
          "base_uri": "https://localhost:8080/",
          "height": 357
        },
        "id": "M6dHD6pu0EzB",
        "outputId": "26f59b8d-27b3-4501-bfa6-3a1df323b291"
      },
      "outputs": [
        {
          "output_type": "stream",
          "name": "stderr",
          "text": [
            "/usr/local/lib/python3.7/dist-packages/seaborn/_decorators.py:43: FutureWarning: Pass the following variable as a keyword arg: x. From version 0.12, the only valid positional argument will be `data`, and passing other arguments without an explicit keyword will result in an error or misinterpretation.\n",
            "  FutureWarning\n"
          ]
        },
        {
          "output_type": "execute_result",
          "data": {
            "text/plain": [
              "<matplotlib.axes._subplots.AxesSubplot at 0x7fa3076d0bd0>"
            ]
          },
          "metadata": {},
          "execution_count": 11
        },
        {
          "output_type": "display_data",
          "data": {
            "text/plain": [
              "<Figure size 432x288 with 1 Axes>"
            ],
            "image/png": "[encoded data removed]"
          },
          "metadata": {}
        }
      ],
      "source": [
        "sns.countplot(df_upsampled['stroke'])"
      ]
    },
    {
      "cell_type": "code",
      "execution_count": null,
      "metadata": {
        "colab": {
          "base_uri": "https://localhost:8080/",
          "height": 379
        },
        "id": "HZJqxe2FVd0v",
        "outputId": "086ab2cd-621b-4145-b0ed-2064d893372d"
      },
      "outputs": [
        {
          "output_type": "execute_result",
          "data": {
            "text/plain": [
              "<matplotlib.axes._subplots.AxesSubplot at 0x7fa3076b40d0>"
            ]
          },
          "metadata": {},
          "execution_count": 12
        },
        {
          "output_type": "display_data",
          "data": {
            "text/plain": [
              "<Figure size 432x288 with 2 Axes>"
            ],
            "image/png": "[encoded data removed]"
          },
          "metadata": {}
        }
      ],
      "source": [
        "sns.heatmap(df_upsampled.corr(), fmt='.2g')"
      ]
    },
    {
      "cell_type": "markdown",
      "metadata": {
        "id": "WiBObV1IZy6S"
      },
      "source": [
        "#Build Machine Learning Model"
      ]
    },
    {
      "cell_type": "code",
      "execution_count": null,
      "metadata": {
        "id": "hAPF0QhkW-E8"
      },
      "outputs": [],
      "source": [
        "X = df_upsampled.drop('stroke', axis=1)\n",
        "y = df_upsampled['stroke']"
      ]
    },
    {
      "cell_type": "code",
      "execution_count": null,
      "metadata": {
        "id": "MwJmqpHkaamR"
      },
      "outputs": [],
      "source": [
        "#test size 20% and train size 80%\n",
        "from sklearn.model_selection import train_test_split, cross_val_score, cross_val_predict\n",
        "from sklearn.metrics import accuracy_score\n",
        "X_train, X_test, y_train, y_test = train_test_split(X,y, test_size=0.2,random_state=7)"
      ]
    },
    {
      "cell_type": "markdown",
      "metadata": {
        "id": "V5sbyHJGaeq0"
      },
      "source": [
        "#Decision Tree"
      ]
    },
    {
      "cell_type": "code",
      "execution_count": null,
      "metadata": {
        "colab": {
          "base_uri": "https://localhost:8080/"
        },
        "id": "gXwe7G-YamtL",
        "outputId": "8ba9b48c-e1af-40d4-a9ef-4a0766c51921"
      },
      "outputs": [
        {
          "output_type": "execute_result",
          "data": {
            "text/plain": [
              "DecisionTreeClassifier()"
            ]
          },
          "metadata": {},
          "execution_count": 15
        }
      ],
      "source": [
        "from sklearn.tree import DecisionTreeClassifier\n",
        "dtree = DecisionTreeClassifier()\n",
        "dtree.fit(X_train, y_train)"
      ]
    },
    {
      "cell_type": "code",
      "execution_count": null,
      "metadata": {
        "colab": {
          "base_uri": "https://localhost:8080/"
        },
        "id": "HBpCuWqgaoXJ",
        "outputId": "0a77af51-1d5a-4b7b-d73b-226ad9984ac8"
      },
      "outputs": [
        {
          "output_type": "stream",
          "name": "stdout",
          "text": [
            "Accuracy Score : 96.25 %\n"
          ]
        }
      ],
      "source": [
        "y_pred = dtree.predict(X_test)\n",
        "print(\"Accuracy Score :\", round(accuracy_score(y_test, y_pred)*100 ,2), \"%\")"
      ]
    },
    {
      "cell_type": "markdown",
      "metadata": {
        "id": "bM1xtkDCbMJx"
      },
      "source": [
        "#XGBoost"
      ]
    },
    {
      "cell_type": "code",
      "execution_count": null,
      "metadata": {
        "colab": {
          "base_uri": "https://localhost:8080/"
        },
        "id": "VFwE2spPbNuZ",
        "outputId": "8e112946-312f-42df-9a9a-6178a67c2315"
      },
      "outputs": [
        {
          "output_type": "execute_result",
          "data": {
            "text/plain": [
              "XGBClassifier()"
            ]
          },
          "metadata": {},
          "execution_count": 17
        }
      ],
      "source": [
        "from xgboost import XGBClassifier\n",
        "xgb = XGBClassifier()\n",
        "xgb.fit(X_train, y_train)"
      ]
    },
    {
      "cell_type": "code",
      "execution_count": null,
      "metadata": {
        "colab": {
          "base_uri": "https://localhost:8080/"
        },
        "id": "7MvRRlrjbaoD",
        "outputId": "98c9dd05-40c4-463f-88b5-0910bb5e39e8"
      },
      "outputs": [
        {
          "output_type": "stream",
          "name": "stdout",
          "text": [
            "Accuracy Score : 83.6 %\n"
          ]
        }
      ],
      "source": [
        "y_pred = xgb.predict(X_test)\n",
        "print(\"Accuracy Score :\", round(accuracy_score(y_test, y_pred)*100 ,2), \"%\")"
      ]
    },
    {
      "cell_type": "markdown",
      "metadata": {
        "id": "xuhZh7Znbi-F"
      },
      "source": [
        "#Random Forest"
      ]
    },
    {
      "cell_type": "code",
      "execution_count": null,
      "metadata": {
        "colab": {
          "base_uri": "https://localhost:8080/"
        },
        "id": "aEqrIZ59bknW",
        "outputId": "053eb575-349c-4415-b3f2-3e497513b87f"
      },
      "outputs": [
        {
          "output_type": "execute_result",
          "data": {
            "text/plain": [
              "RandomForestClassifier()"
            ]
          },
          "metadata": {},
          "execution_count": 19
        }
      ],
      "source": [
        "from sklearn.ensemble import RandomForestClassifier\n",
        "rfc = RandomForestClassifier()\n",
        "rfc.fit(X_train, y_train)"
      ]
    },
    {
      "cell_type": "code",
      "execution_count": null,
      "metadata": {
        "colab": {
          "base_uri": "https://localhost:8080/"
        },
        "id": "PLOWpBl4boz1",
        "outputId": "cc5fef09-5c76-468b-b8d1-f9f5ed49608d"
      },
      "outputs": [
        {
          "output_type": "stream",
          "name": "stdout",
          "text": [
            "Accuracy Score : 98.92 %\n"
          ]
        }
      ],
      "source": [
        "y_pred = rfc.predict(X_test)\n",
        "print(\"Accuracy Score :\", round(accuracy_score(y_test, y_pred)*100 ,2), \"%\")"
      ]
    },
    {
      "cell_type": "markdown",
      "metadata": {
        "id": "J2JHoPyXcXvE"
      },
      "source": [
        "#Logistic Regression"
      ]
    },
    {
      "cell_type": "code",
      "execution_count": null,
      "metadata": {
        "colab": {
          "base_uri": "https://localhost:8080/"
        },
        "id": "qVCkGS1xcV9e",
        "outputId": "b8b33357-701c-48e9-b31e-c8a5fcb67eeb"
      },
      "outputs": [
        {
          "output_type": "stream",
          "name": "stderr",
          "text": [
            "/usr/local/lib/python3.7/dist-packages/sklearn/linear_model/_logistic.py:818: ConvergenceWarning: lbfgs failed to converge (status=1):\n",
            "STOP: TOTAL NO. of ITERATIONS REACHED LIMIT.\n",
            "\n",
            "Increase the number of iterations (max_iter) or scale the data as shown in:\n",
            "    https://scikit-learn.org/stable/modules/preprocessing.html\n",
            "Please also refer to the documentation for alternative solver options:\n",
            "    https://scikit-learn.org/stable/modules/linear_model.html#logistic-regression\n",
            "  extra_warning_msg=_LOGISTIC_SOLVER_CONVERGENCE_MSG,\n"
          ]
        },
        {
          "output_type": "execute_result",
          "data": {
            "text/plain": [
              "LogisticRegression()"
            ]
          },
          "metadata": {},
          "execution_count": 21
        }
      ],
      "source": [
        "from sklearn.linear_model import LogisticRegression\n",
        "lr = LogisticRegression()\n",
        "lr.fit(X_train, y_train)"
      ]
    },
    {
      "cell_type": "code",
      "execution_count": null,
      "metadata": {
        "colab": {
          "base_uri": "https://localhost:8080/"
        },
        "id": "IFr-uu42dJ1Y",
        "outputId": "72da1f8f-f776-402a-dbec-dd968a3e02ad"
      },
      "outputs": [
        {
          "output_type": "stream",
          "name": "stdout",
          "text": [
            "Accuracy Score : 77.48 %\n"
          ]
        }
      ],
      "source": [
        "y_pred = lr.predict(X_test)\n",
        "print(\"Accuracy Score :\", round(accuracy_score(y_test, y_pred)*100 ,2), \"%\")"
      ]
    },
    {
      "cell_type": "markdown",
      "metadata": {
        "id": "CAigrqcgdt5f"
      },
      "source": [
        "Visualize XGBoost and Logistic Regression"
      ]
    },
    {
      "cell_type": "code",
      "execution_count": null,
      "metadata": {
        "id": "8hwBsQtyeagJ"
      },
      "outputs": [],
      "source": [
        "#importing classification report and confussion maatrix from sklearn\n",
        "from sklearn.metrics import classification_report, confusion_matrix"
      ]
    },
    {
      "cell_type": "markdown",
      "metadata": {
        "id": "Mhh6vFrFgfwT"
      },
      "source": [
        "#XGBoost"
      ]
    },
    {
      "cell_type": "code",
      "execution_count": null,
      "metadata": {
        "colab": {
          "base_uri": "https://localhost:8080/"
        },
        "id": "b6uyVV_eehFu",
        "outputId": "9fd70cde-ea59-46d6-ab6b-04da06750349"
      },
      "outputs": [
        {
          "output_type": "stream",
          "name": "stdout",
          "text": [
            "Classification report - \n",
            "               precision    recall  f1-score   support\n",
            "\n",
            "           0       0.89      0.77      0.83       988\n",
            "           1       0.79      0.90      0.84       957\n",
            "\n",
            "    accuracy                           0.84      1945\n",
            "   macro avg       0.84      0.84      0.84      1945\n",
            "weighted avg       0.84      0.84      0.84      1945\n",
            "\n"
          ]
        }
      ],
      "source": [
        "y_pred = xgb.predict(X_test)\n",
        "print(\"Classification report - \\n\", classification_report(y_test,y_pred))"
      ]
    },
    {
      "cell_type": "code",
      "execution_count": null,
      "metadata": {
        "colab": {
          "base_uri": "https://localhost:8080/",
          "height": 332
        },
        "id": "GwqGjT_TiHHQ",
        "outputId": "914325eb-8eff-4e43-bc1e-b2bd33c729fd"
      },
      "outputs": [
        {
          "output_type": "execute_result",
          "data": {
            "text/plain": [
              "Text(0.5, 1.0, 'Accuracy Score: 83.59897172236504')"
            ]
          },
          "metadata": {},
          "execution_count": 25
        },
        {
          "output_type": "display_data",
          "data": {
            "text/plain": [
              "<Figure size 360x360 with 2 Axes>"
            ],
            "image/png": "[encoded data removed]"
          },
          "metadata": {}
        }
      ],
      "source": [
        "cm = confusion_matrix(y_test, y_pred)\n",
        "plt.figure(figsize=(5,5))\n",
        "sns.heatmap(data=cm,linewidths=.5, annot=True,square = True,  cmap = 'Blues')\n",
        "plt.ylabel('Actual label')\n",
        "plt.xlabel('Predicted label')\n",
        "all_sample_title = 'Accuracy Score: {0}'.format(xgb.score(X_test, y_test)*100)\n",
        "plt.title(all_sample_title, size = 15)"
      ]
    },
    {
      "cell_type": "code",
      "execution_count": null,
      "metadata": {
        "colab": {
          "base_uri": "https://localhost:8080/",
          "height": 320
        },
        "id": "UYouJcEGjkJk",
        "outputId": "cc4bff5e-f2c8-480c-d9d1-93bc26f07fe1"
      },
      "outputs": [
        {
          "output_type": "execute_result",
          "data": {
            "text/plain": [
              "<matplotlib.legend.Legend at 0x7fa2fb15c890>"
            ]
          },
          "metadata": {},
          "execution_count": 26
        },
        {
          "output_type": "display_data",
          "data": {
            "text/plain": [
              "<Figure size 432x288 with 1 Axes>"
            ],
            "image/png": "[encoded data removed]"
          },
          "metadata": {}
        }
      ],
      "source": [
        "from sklearn.metrics import roc_curve, roc_auc_score\n",
        "y_pred_proba = xgb.predict_proba(X_test)[:][:,1]\n",
        "df_actual_predicted = pd.concat([pd.DataFrame(np.array(y_test), columns=['y_actual']), pd.DataFrame(y_pred_proba, columns=['y_pred_proba'])], axis=1)\n",
        "df_actual_predicted.index = y_test.index\n",
        "fpr, tpr, tr = roc_curve(df_actual_predicted['y_actual'], df_actual_predicted['y_pred_proba'])\n",
        "auc = roc_auc_score(df_actual_predicted['y_actual'], df_actual_predicted['y_pred_proba'])\n",
        "plt.plot(fpr, tpr, label='AUC = %0.4f' %auc)\n",
        "plt.plot(fpr, fpr, linestyle = '--', color='k')\n",
        "plt.xlabel('False Positive Rate')\n",
        "plt.ylabel('True Positive Rate')\n",
        "plt.title('ROC Curve', size = 15)\n",
        "plt.legend()"
      ]
    },
    {
      "cell_type": "code",
      "execution_count": null,
      "metadata": {
        "colab": {
          "base_uri": "https://localhost:8080/",
          "height": 1000
        },
        "id": "mSehzmHcl4-w",
        "outputId": "33e42398-1426-4dfd-8608-b519ed3d1a4d"
      },
      "outputs": [
        {
          "output_type": "stream",
          "name": "stdout",
          "text": [
            "[0]\tvalidation_0-error:0.211007\tvalidation_0-logloss:0.655947\tvalidation_1-error:0.213368\tvalidation_1-logloss:0.655314\n",
            "[1]\tvalidation_0-error:0.211393\tvalidation_0-logloss:0.625398\tvalidation_1-error:0.209255\tvalidation_1-logloss:0.624532\n",
            "[2]\tvalidation_0-error:0.211007\tvalidation_0-logloss:0.600094\tvalidation_1-error:0.213368\tvalidation_1-logloss:0.599087\n",
            "[3]\tvalidation_0-error:0.211393\tvalidation_0-logloss:0.578877\tvalidation_1-error:0.209255\tvalidation_1-logloss:0.57786\n",
            "[4]\tvalidation_0-error:0.208049\tvalidation_0-logloss:0.560924\tvalidation_1-error:0.20617\tvalidation_1-logloss:0.560031\n",
            "[5]\tvalidation_0-error:0.205349\tvalidation_0-logloss:0.545215\tvalidation_1-error:0.203599\tvalidation_1-logloss:0.543987\n",
            "[6]\tvalidation_0-error:0.201234\tvalidation_0-logloss:0.531937\tvalidation_1-error:0.2\tvalidation_1-logloss:0.530893\n",
            "[7]\tvalidation_0-error:0.201363\tvalidation_0-logloss:0.520518\tvalidation_1-error:0.200514\tvalidation_1-logloss:0.519555\n",
            "[8]\tvalidation_0-error:0.200849\tvalidation_0-logloss:0.510761\tvalidation_1-error:0.205141\tvalidation_1-logloss:0.509776\n",
            "[9]\tvalidation_0-error:0.200591\tvalidation_0-logloss:0.501643\tvalidation_1-error:0.198458\tvalidation_1-logloss:0.500093\n",
            "[10]\tvalidation_0-error:0.200849\tvalidation_0-logloss:0.493811\tvalidation_1-error:0.197429\tvalidation_1-logloss:0.49161\n",
            "[11]\tvalidation_0-error:0.200077\tvalidation_0-logloss:0.486946\tvalidation_1-error:0.202057\tvalidation_1-logloss:0.484489\n",
            "[12]\tvalidation_0-error:0.200849\tvalidation_0-logloss:0.480415\tvalidation_1-error:0.203085\tvalidation_1-logloss:0.477844\n",
            "[13]\tvalidation_0-error:0.202392\tvalidation_0-logloss:0.474911\tvalidation_1-error:0.201028\tvalidation_1-logloss:0.472186\n",
            "[14]\tvalidation_0-error:0.203292\tvalidation_0-logloss:0.469831\tvalidation_1-error:0.205656\tvalidation_1-logloss:0.467362\n",
            "[15]\tvalidation_0-error:0.204063\tvalidation_0-logloss:0.465026\tvalidation_1-error:0.196915\tvalidation_1-logloss:0.462977\n",
            "[16]\tvalidation_0-error:0.201749\tvalidation_0-logloss:0.460938\tvalidation_1-error:0.196401\tvalidation_1-logloss:0.45911\n",
            "[17]\tvalidation_0-error:0.202906\tvalidation_0-logloss:0.457009\tvalidation_1-error:0.194859\tvalidation_1-logloss:0.454925\n",
            "[18]\tvalidation_0-error:0.200334\tvalidation_0-logloss:0.453242\tvalidation_1-error:0.195887\tvalidation_1-logloss:0.451294\n",
            "[19]\tvalidation_0-error:0.201749\tvalidation_0-logloss:0.450306\tvalidation_1-error:0.195373\tvalidation_1-logloss:0.448014\n",
            "[20]\tvalidation_0-error:0.199563\tvalidation_0-logloss:0.447252\tvalidation_1-error:0.193316\tvalidation_1-logloss:0.444742\n",
            "[21]\tvalidation_0-error:0.199177\tvalidation_0-logloss:0.444422\tvalidation_1-error:0.193316\tvalidation_1-logloss:0.441634\n",
            "[22]\tvalidation_0-error:0.199177\tvalidation_0-logloss:0.44195\tvalidation_1-error:0.19383\tvalidation_1-logloss:0.439245\n",
            "[23]\tvalidation_0-error:0.198791\tvalidation_0-logloss:0.43993\tvalidation_1-error:0.194344\tvalidation_1-logloss:0.436846\n",
            "[24]\tvalidation_0-error:0.197377\tvalidation_0-logloss:0.436914\tvalidation_1-error:0.192802\tvalidation_1-logloss:0.434685\n",
            "[25]\tvalidation_0-error:0.196863\tvalidation_0-logloss:0.434517\tvalidation_1-error:0.192288\tvalidation_1-logloss:0.432125\n",
            "[26]\tvalidation_0-error:0.197763\tvalidation_0-logloss:0.431971\tvalidation_1-error:0.193316\tvalidation_1-logloss:0.429849\n",
            "[27]\tvalidation_0-error:0.198277\tvalidation_0-logloss:0.430437\tvalidation_1-error:0.194344\tvalidation_1-logloss:0.428027\n",
            "[28]\tvalidation_0-error:0.19622\tvalidation_0-logloss:0.427558\tvalidation_1-error:0.19126\tvalidation_1-logloss:0.426205\n",
            "[29]\tvalidation_0-error:0.192234\tvalidation_0-logloss:0.425775\tvalidation_1-error:0.191774\tvalidation_1-logloss:0.424786\n",
            "[30]\tvalidation_0-error:0.192748\tvalidation_0-logloss:0.423014\tvalidation_1-error:0.193316\tvalidation_1-logloss:0.423045\n",
            "[31]\tvalidation_0-error:0.192491\tvalidation_0-logloss:0.421767\tvalidation_1-error:0.192802\tvalidation_1-logloss:0.421568\n",
            "[32]\tvalidation_0-error:0.193005\tvalidation_0-logloss:0.420212\tvalidation_1-error:0.193316\tvalidation_1-logloss:0.420008\n",
            "[33]\tvalidation_0-error:0.191462\tvalidation_0-logloss:0.41916\tvalidation_1-error:0.192288\tvalidation_1-logloss:0.418737\n",
            "[34]\tvalidation_0-error:0.187347\tvalidation_0-logloss:0.417762\tvalidation_1-error:0.189717\tvalidation_1-logloss:0.417618\n",
            "[35]\tvalidation_0-error:0.18799\tvalidation_0-logloss:0.415752\tvalidation_1-error:0.19126\tvalidation_1-logloss:0.416363\n",
            "[36]\tvalidation_0-error:0.187862\tvalidation_0-logloss:0.414873\tvalidation_1-error:0.19126\tvalidation_1-logloss:0.415148\n",
            "[37]\tvalidation_0-error:0.185804\tvalidation_0-logloss:0.413612\tvalidation_1-error:0.189717\tvalidation_1-logloss:0.41407\n",
            "[38]\tvalidation_0-error:0.185676\tvalidation_0-logloss:0.412395\tvalidation_1-error:0.190231\tvalidation_1-logloss:0.413008\n",
            "[39]\tvalidation_0-error:0.181304\tvalidation_0-logloss:0.409622\tvalidation_1-error:0.192288\tvalidation_1-logloss:0.410819\n",
            "[40]\tvalidation_0-error:0.181304\tvalidation_0-logloss:0.408762\tvalidation_1-error:0.192288\tvalidation_1-logloss:0.409428\n",
            "[41]\tvalidation_0-error:0.181175\tvalidation_0-logloss:0.407895\tvalidation_1-error:0.191774\tvalidation_1-logloss:0.408828\n",
            "[42]\tvalidation_0-error:0.181175\tvalidation_0-logloss:0.406361\tvalidation_1-error:0.19126\tvalidation_1-logloss:0.408093\n",
            "[43]\tvalidation_0-error:0.181304\tvalidation_0-logloss:0.40564\tvalidation_1-error:0.189717\tvalidation_1-logloss:0.406899\n",
            "[44]\tvalidation_0-error:0.180404\tvalidation_0-logloss:0.404613\tvalidation_1-error:0.190746\tvalidation_1-logloss:0.406317\n",
            "[45]\tvalidation_0-error:0.179889\tvalidation_0-logloss:0.403707\tvalidation_1-error:0.189203\tvalidation_1-logloss:0.405723\n",
            "[46]\tvalidation_0-error:0.179504\tvalidation_0-logloss:0.401641\tvalidation_1-error:0.188689\tvalidation_1-logloss:0.404331\n",
            "[47]\tvalidation_0-error:0.181561\tvalidation_0-logloss:0.401034\tvalidation_1-error:0.189203\tvalidation_1-logloss:0.403302\n",
            "[48]\tvalidation_0-error:0.181432\tvalidation_0-logloss:0.400263\tvalidation_1-error:0.189203\tvalidation_1-logloss:0.40253\n",
            "[49]\tvalidation_0-error:0.181432\tvalidation_0-logloss:0.399739\tvalidation_1-error:0.188689\tvalidation_1-logloss:0.401622\n",
            "[50]\tvalidation_0-error:0.182975\tvalidation_0-logloss:0.398929\tvalidation_1-error:0.190746\tvalidation_1-logloss:0.401212\n",
            "[51]\tvalidation_0-error:0.182333\tvalidation_0-logloss:0.396972\tvalidation_1-error:0.188175\tvalidation_1-logloss:0.399227\n",
            "[52]\tvalidation_0-error:0.178861\tvalidation_0-logloss:0.396348\tvalidation_1-error:0.184062\tvalidation_1-logloss:0.398737\n",
            "[53]\tvalidation_0-error:0.179118\tvalidation_0-logloss:0.395914\tvalidation_1-error:0.18509\tvalidation_1-logloss:0.397934\n",
            "[54]\tvalidation_0-error:0.178989\tvalidation_0-logloss:0.395229\tvalidation_1-error:0.18509\tvalidation_1-logloss:0.397506\n",
            "[55]\tvalidation_0-error:0.181175\tvalidation_0-logloss:0.394851\tvalidation_1-error:0.186632\tvalidation_1-logloss:0.396796\n",
            "[56]\tvalidation_0-error:0.178989\tvalidation_0-logloss:0.394324\tvalidation_1-error:0.184062\tvalidation_1-logloss:0.396422\n",
            "[57]\tvalidation_0-error:0.178732\tvalidation_0-logloss:0.392608\tvalidation_1-error:0.183548\tvalidation_1-logloss:0.395223\n",
            "[58]\tvalidation_0-error:0.177446\tvalidation_0-logloss:0.390775\tvalidation_1-error:0.180977\tvalidation_1-logloss:0.39352\n",
            "[59]\tvalidation_0-error:0.177575\tvalidation_0-logloss:0.390165\tvalidation_1-error:0.180977\tvalidation_1-logloss:0.39281\n",
            "[60]\tvalidation_0-error:0.177318\tvalidation_0-logloss:0.389579\tvalidation_1-error:0.180977\tvalidation_1-logloss:0.392453\n",
            "[61]\tvalidation_0-error:0.175775\tvalidation_0-logloss:0.388086\tvalidation_1-error:0.179434\tvalidation_1-logloss:0.39207\n",
            "[62]\tvalidation_0-error:0.175775\tvalidation_0-logloss:0.387578\tvalidation_1-error:0.179434\tvalidation_1-logloss:0.391535\n",
            "[63]\tvalidation_0-error:0.175646\tvalidation_0-logloss:0.387072\tvalidation_1-error:0.179434\tvalidation_1-logloss:0.391232\n",
            "[64]\tvalidation_0-error:0.174746\tvalidation_0-logloss:0.385211\tvalidation_1-error:0.178406\tvalidation_1-logloss:0.389535\n",
            "[65]\tvalidation_0-error:0.175003\tvalidation_0-logloss:0.383249\tvalidation_1-error:0.177892\tvalidation_1-logloss:0.387149\n",
            "[66]\tvalidation_0-error:0.173589\tvalidation_0-logloss:0.382635\tvalidation_1-error:0.17635\tvalidation_1-logloss:0.38649\n",
            "[67]\tvalidation_0-error:0.171017\tvalidation_0-logloss:0.380116\tvalidation_1-error:0.175321\tvalidation_1-logloss:0.384692\n",
            "[68]\tvalidation_0-error:0.17346\tvalidation_0-logloss:0.379088\tvalidation_1-error:0.176864\tvalidation_1-logloss:0.384331\n",
            "[69]\tvalidation_0-error:0.173589\tvalidation_0-logloss:0.378792\tvalidation_1-error:0.176864\tvalidation_1-logloss:0.383751\n",
            "[70]\tvalidation_0-error:0.171531\tvalidation_0-logloss:0.378423\tvalidation_1-error:0.175321\tvalidation_1-logloss:0.383498\n",
            "[71]\tvalidation_0-error:0.170374\tvalidation_0-logloss:0.376471\tvalidation_1-error:0.174807\tvalidation_1-logloss:0.382082\n",
            "[72]\tvalidation_0-error:0.170246\tvalidation_0-logloss:0.37619\tvalidation_1-error:0.174807\tvalidation_1-logloss:0.381665\n",
            "[73]\tvalidation_0-error:0.169988\tvalidation_0-logloss:0.375487\tvalidation_1-error:0.174807\tvalidation_1-logloss:0.380908\n",
            "[74]\tvalidation_0-error:0.16986\tvalidation_0-logloss:0.37507\tvalidation_1-error:0.174807\tvalidation_1-logloss:0.380549\n",
            "[75]\tvalidation_0-error:0.169346\tvalidation_0-logloss:0.373791\tvalidation_1-error:0.174807\tvalidation_1-logloss:0.379072\n",
            "[76]\tvalidation_0-error:0.168445\tvalidation_0-logloss:0.372298\tvalidation_1-error:0.174807\tvalidation_1-logloss:0.377686\n",
            "[77]\tvalidation_0-error:0.165102\tvalidation_0-logloss:0.371156\tvalidation_1-error:0.174293\tvalidation_1-logloss:0.37658\n",
            "[78]\tvalidation_0-error:0.164974\tvalidation_0-logloss:0.370906\tvalidation_1-error:0.174293\tvalidation_1-logloss:0.376092\n",
            "[79]\tvalidation_0-error:0.160216\tvalidation_0-logloss:0.368919\tvalidation_1-error:0.173265\tvalidation_1-logloss:0.375179\n",
            "[80]\tvalidation_0-error:0.157001\tvalidation_0-logloss:0.367231\tvalidation_1-error:0.169152\tvalidation_1-logloss:0.374213\n",
            "[81]\tvalidation_0-error:0.157001\tvalidation_0-logloss:0.366621\tvalidation_1-error:0.169152\tvalidation_1-logloss:0.373715\n",
            "[82]\tvalidation_0-error:0.156873\tvalidation_0-logloss:0.366304\tvalidation_1-error:0.169152\tvalidation_1-logloss:0.373405\n",
            "[83]\tvalidation_0-error:0.159187\tvalidation_0-logloss:0.364727\tvalidation_1-error:0.171208\tvalidation_1-logloss:0.372232\n",
            "[84]\tvalidation_0-error:0.158416\tvalidation_0-logloss:0.363696\tvalidation_1-error:0.171208\tvalidation_1-logloss:0.37104\n",
            "[85]\tvalidation_0-error:0.158159\tvalidation_0-logloss:0.362156\tvalidation_1-error:0.17018\tvalidation_1-logloss:0.369736\n",
            "[86]\tvalidation_0-error:0.15713\tvalidation_0-logloss:0.361236\tvalidation_1-error:0.169152\tvalidation_1-logloss:0.368695\n",
            "[87]\tvalidation_0-error:0.154558\tvalidation_0-logloss:0.360048\tvalidation_1-error:0.169152\tvalidation_1-logloss:0.368258\n",
            "[88]\tvalidation_0-error:0.154301\tvalidation_0-logloss:0.359682\tvalidation_1-error:0.169152\tvalidation_1-logloss:0.368071\n",
            "[89]\tvalidation_0-error:0.154558\tvalidation_0-logloss:0.358266\tvalidation_1-error:0.169152\tvalidation_1-logloss:0.367156\n",
            "[90]\tvalidation_0-error:0.156487\tvalidation_0-logloss:0.356862\tvalidation_1-error:0.171722\tvalidation_1-logloss:0.365907\n",
            "[91]\tvalidation_0-error:0.154173\tvalidation_0-logloss:0.356272\tvalidation_1-error:0.170694\tvalidation_1-logloss:0.365567\n",
            "[92]\tvalidation_0-error:0.149544\tvalidation_0-logloss:0.355854\tvalidation_1-error:0.166581\tvalidation_1-logloss:0.365293\n",
            "[93]\tvalidation_0-error:0.150958\tvalidation_0-logloss:0.354908\tvalidation_1-error:0.167095\tvalidation_1-logloss:0.364421\n",
            "[94]\tvalidation_0-error:0.148772\tvalidation_0-logloss:0.353334\tvalidation_1-error:0.166067\tvalidation_1-logloss:0.363269\n",
            "[95]\tvalidation_0-error:0.147229\tvalidation_0-logloss:0.351819\tvalidation_1-error:0.165039\tvalidation_1-logloss:0.361941\n",
            "[96]\tvalidation_0-error:0.146329\tvalidation_0-logloss:0.350614\tvalidation_1-error:0.16401\tvalidation_1-logloss:0.3608\n",
            "[97]\tvalidation_0-error:0.148258\tvalidation_0-logloss:0.349231\tvalidation_1-error:0.165039\tvalidation_1-logloss:0.359879\n",
            "[98]\tvalidation_0-error:0.148258\tvalidation_0-logloss:0.349025\tvalidation_1-error:0.165039\tvalidation_1-logloss:0.359463\n",
            "[99]\tvalidation_0-error:0.146843\tvalidation_0-logloss:0.347819\tvalidation_1-error:0.16401\tvalidation_1-logloss:0.358636\n"
          ]
        },
        {
          "output_type": "display_data",
          "data": {
            "text/plain": [
              "<Figure size 432x288 with 1 Axes>"
            ],
            "image/png": "[encoded data removed]"
          },
          "metadata": {}
        }
      ],
      "source": [
        "from matplotlib import pyplot\n",
        "model = XGBClassifier()\n",
        "eval_set = [(X_train, y_train), (X_test, y_test)]\n",
        "model.fit(X_train, y_train, eval_metric=[\"error\", \"logloss\"], eval_set=eval_set, verbose=True)\n",
        "results = model.evals_result()\n",
        "epochs = len(results['validation_0']['error'])\n",
        "x_axis = range(0, epochs)\n",
        "# plot log loss\n",
        "fig, ax = pyplot.subplots()\n",
        "ax.plot(x_axis, results['validation_0']['logloss'], label='Train')\n",
        "ax.plot(x_axis, results['validation_1']['logloss'], label='Test')\n",
        "ax.legend()\n",
        "pyplot.ylabel('Log Loss')\n",
        "pyplot.title('XGBoost Log Loss')\n",
        "pyplot.show()"
      ]
    },
    {
      "cell_type": "code",
      "execution_count": null,
      "metadata": {
        "colab": {
          "base_uri": "https://localhost:8080/"
        },
        "id": "LorHgMbkk8D4",
        "outputId": "a2107f09-1664-4cdf-ee31-294122a7bd18"
      },
      "outputs": [
        {
          "output_type": "stream",
          "name": "stdout",
          "text": [
            "[0]\tvalidation_0-logloss:0.655314\n",
            "Will train until validation_0-logloss hasn't improved in 10 rounds.\n",
            "[1]\tvalidation_0-logloss:0.624532\n",
            "[2]\tvalidation_0-logloss:0.599087\n",
            "[3]\tvalidation_0-logloss:0.57786\n",
            "[4]\tvalidation_0-logloss:0.560031\n",
            "[5]\tvalidation_0-logloss:0.543987\n",
            "[6]\tvalidation_0-logloss:0.530893\n",
            "[7]\tvalidation_0-logloss:0.519555\n",
            "[8]\tvalidation_0-logloss:0.509776\n",
            "[9]\tvalidation_0-logloss:0.500093\n",
            "[10]\tvalidation_0-logloss:0.49161\n",
            "[11]\tvalidation_0-logloss:0.484489\n",
            "[12]\tvalidation_0-logloss:0.477844\n",
            "[13]\tvalidation_0-logloss:0.472186\n",
            "[14]\tvalidation_0-logloss:0.467362\n",
            "[15]\tvalidation_0-logloss:0.462977\n",
            "[16]\tvalidation_0-logloss:0.45911\n",
            "[17]\tvalidation_0-logloss:0.454925\n",
            "[18]\tvalidation_0-logloss:0.451294\n",
            "[19]\tvalidation_0-logloss:0.448014\n",
            "[20]\tvalidation_0-logloss:0.444742\n",
            "[21]\tvalidation_0-logloss:0.441634\n",
            "[22]\tvalidation_0-logloss:0.439245\n",
            "[23]\tvalidation_0-logloss:0.436846\n",
            "[24]\tvalidation_0-logloss:0.434685\n",
            "[25]\tvalidation_0-logloss:0.432125\n",
            "[26]\tvalidation_0-logloss:0.429849\n",
            "[27]\tvalidation_0-logloss:0.428027\n",
            "[28]\tvalidation_0-logloss:0.426205\n",
            "[29]\tvalidation_0-logloss:0.424786\n",
            "[30]\tvalidation_0-logloss:0.423045\n",
            "[31]\tvalidation_0-logloss:0.421568\n",
            "[32]\tvalidation_0-logloss:0.420008\n",
            "[33]\tvalidation_0-logloss:0.418737\n",
            "[34]\tvalidation_0-logloss:0.417618\n",
            "[35]\tvalidation_0-logloss:0.416363\n",
            "[36]\tvalidation_0-logloss:0.415148\n",
            "[37]\tvalidation_0-logloss:0.41407\n",
            "[38]\tvalidation_0-logloss:0.413008\n",
            "[39]\tvalidation_0-logloss:0.410819\n",
            "[40]\tvalidation_0-logloss:0.409428\n",
            "[41]\tvalidation_0-logloss:0.408828\n",
            "[42]\tvalidation_0-logloss:0.408093\n",
            "[43]\tvalidation_0-logloss:0.406899\n",
            "[44]\tvalidation_0-logloss:0.406317\n",
            "[45]\tvalidation_0-logloss:0.405723\n",
            "[46]\tvalidation_0-logloss:0.404331\n",
            "[47]\tvalidation_0-logloss:0.403302\n",
            "[48]\tvalidation_0-logloss:0.40253\n",
            "[49]\tvalidation_0-logloss:0.401622\n",
            "[50]\tvalidation_0-logloss:0.401212\n",
            "[51]\tvalidation_0-logloss:0.399227\n",
            "[52]\tvalidation_0-logloss:0.398737\n",
            "[53]\tvalidation_0-logloss:0.397934\n",
            "[54]\tvalidation_0-logloss:0.397506\n",
            "[55]\tvalidation_0-logloss:0.396796\n",
            "[56]\tvalidation_0-logloss:0.396422\n",
            "[57]\tvalidation_0-logloss:0.395223\n",
            "[58]\tvalidation_0-logloss:0.39352\n",
            "[59]\tvalidation_0-logloss:0.39281\n",
            "[60]\tvalidation_0-logloss:0.392453\n",
            "[61]\tvalidation_0-logloss:0.39207\n",
            "[62]\tvalidation_0-logloss:0.391535\n",
            "[63]\tvalidation_0-logloss:0.391232\n",
            "[64]\tvalidation_0-logloss:0.389535\n",
            "[65]\tvalidation_0-logloss:0.387149\n",
            "[66]\tvalidation_0-logloss:0.38649\n",
            "[67]\tvalidation_0-logloss:0.384692\n",
            "[68]\tvalidation_0-logloss:0.384331\n",
            "[69]\tvalidation_0-logloss:0.383751\n",
            "[70]\tvalidation_0-logloss:0.383498\n",
            "[71]\tvalidation_0-logloss:0.382082\n",
            "[72]\tvalidation_0-logloss:0.381665\n",
            "[73]\tvalidation_0-logloss:0.380908\n",
            "[74]\tvalidation_0-logloss:0.380549\n",
            "[75]\tvalidation_0-logloss:0.379072\n",
            "[76]\tvalidation_0-logloss:0.377686\n",
            "[77]\tvalidation_0-logloss:0.37658\n",
            "[78]\tvalidation_0-logloss:0.376092\n",
            "[79]\tvalidation_0-logloss:0.375179\n",
            "[80]\tvalidation_0-logloss:0.374213\n",
            "[81]\tvalidation_0-logloss:0.373715\n",
            "[82]\tvalidation_0-logloss:0.373405\n",
            "[83]\tvalidation_0-logloss:0.372232\n",
            "[84]\tvalidation_0-logloss:0.37104\n",
            "[85]\tvalidation_0-logloss:0.369736\n",
            "[86]\tvalidation_0-logloss:0.368695\n",
            "[87]\tvalidation_0-logloss:0.368258\n",
            "[88]\tvalidation_0-logloss:0.368071\n",
            "[89]\tvalidation_0-logloss:0.367156\n",
            "[90]\tvalidation_0-logloss:0.365907\n",
            "[91]\tvalidation_0-logloss:0.365567\n",
            "[92]\tvalidation_0-logloss:0.365293\n",
            "[93]\tvalidation_0-logloss:0.364421\n",
            "[94]\tvalidation_0-logloss:0.363269\n",
            "[95]\tvalidation_0-logloss:0.361941\n",
            "[96]\tvalidation_0-logloss:0.3608\n",
            "[97]\tvalidation_0-logloss:0.359879\n",
            "[98]\tvalidation_0-logloss:0.359463\n",
            "[99]\tvalidation_0-logloss:0.358636\n"
          ]
        },
        {
          "output_type": "execute_result",
          "data": {
            "text/plain": [
              "XGBClassifier()"
            ]
          },
          "metadata": {},
          "execution_count": 28
        }
      ],
      "source": [
        "model = XGBClassifier()\n",
        "eval_set = [(X_test, y_test)]\n",
        "model.fit(X_train,y_train, early_stopping_rounds=10, eval_metric=\"logloss\", eval_set=eval_set, verbose=True)"
      ]
    },
    {
      "cell_type": "code",
      "execution_count": null,
      "metadata": {
        "colab": {
          "base_uri": "https://localhost:8080/",
          "height": 318
        },
        "id": "zeUQIPCrkX3q",
        "outputId": "cea9f119-302e-439f-b6d0-1ff0cbc63e3c"
      },
      "outputs": [
        {
          "output_type": "display_data",
          "data": {
            "text/plain": [
              "<Figure size 432x288 with 1 Axes>"
            ],
            "image/png": "[encoded data removed]"
          },
          "metadata": {}
        },
        {
          "output_type": "display_data",
          "data": {
            "text/plain": [
              "<Figure size 2160x3240 with 0 Axes>"
            ]
          },
          "metadata": {}
        }
      ],
      "source": [
        "from xgboost import plot_importance\n",
        "from matplotlib import pyplot\n",
        "plot_importance(model)\n",
        "plt.figure(figsize=(30,45))\n",
        "pyplot.show()"
      ]
    },
    {
      "cell_type": "code",
      "execution_count": null,
      "metadata": {
        "colab": {
          "base_uri": "https://localhost:8080/",
          "height": 238
        },
        "id": "XJuScvOhkjOr",
        "outputId": "6ae758e2-2067-4949-c5af-89c67c26fd74"
      },
      "outputs": [
        {
          "output_type": "display_data",
          "data": {
            "text/plain": [
              "<Figure size 1440x1440 with 1 Axes>"
            ],
            "image/png": "[encoded data removed]"
          },
          "metadata": {}
        }
      ],
      "source": [
        "import xgboost as xgb\n",
        "plt.figure(figsize=(20,20))\n",
        "xgb.plot_tree(model, ax=plt.gca());"
      ]
    },
    {
      "cell_type": "markdown",
      "metadata": {
        "id": "aMOdQLRElLPA"
      },
      "source": [
        "#Logistic Regression"
      ]
    },
    {
      "cell_type": "code",
      "execution_count": null,
      "metadata": {
        "colab": {
          "base_uri": "https://localhost:8080/"
        },
        "id": "GU3lS5IGlSAH",
        "outputId": "4a6be5f7-a019-43c1-be19-e57656c4a280"
      },
      "outputs": [
        {
          "output_type": "stream",
          "name": "stdout",
          "text": [
            "Classification report - \n",
            "               precision    recall  f1-score   support\n",
            "\n",
            "           0       0.80      0.74      0.77       988\n",
            "           1       0.75      0.82      0.78       957\n",
            "\n",
            "    accuracy                           0.77      1945\n",
            "   macro avg       0.78      0.78      0.77      1945\n",
            "weighted avg       0.78      0.77      0.77      1945\n",
            "\n"
          ]
        }
      ],
      "source": [
        "y_pred = lr.predict(X_test)\n",
        "print(\"Classification report - \\n\", classification_report(y_test,y_pred))"
      ]
    },
    {
      "cell_type": "code",
      "execution_count": null,
      "metadata": {
        "colab": {
          "base_uri": "https://localhost:8080/",
          "height": 332
        },
        "id": "nKLdSPi0ne8J",
        "outputId": "104b2a37-edfd-4385-da55-54bd71e8f990"
      },
      "outputs": [
        {
          "output_type": "execute_result",
          "data": {
            "text/plain": [
              "Text(0.5, 1.0, 'Accuracy Score: 77.48071979434448')"
            ]
          },
          "metadata": {},
          "execution_count": 32
        },
        {
          "output_type": "display_data",
          "data": {
            "text/plain": [
              "<Figure size 360x360 with 2 Axes>"
            ],
            "image/png": "[encoded data removed]"
          },
          "metadata": {}
        }
      ],
      "source": [
        "cm = confusion_matrix(y_test, y_pred)\n",
        "plt.figure(figsize=(5,5))\n",
        "sns.heatmap(data=cm,linewidths=.5, annot=True,square = True,  cmap = 'Blues')\n",
        "plt.ylabel('Actual label')\n",
        "plt.xlabel('Predicted label')\n",
        "all_sample_title = 'Accuracy Score: {0}'.format(lr.score(X_test, y_test)*100)\n",
        "plt.title(all_sample_title, size = 15)"
      ]
    },
    {
      "cell_type": "code",
      "execution_count": null,
      "metadata": {
        "colab": {
          "base_uri": "https://localhost:8080/",
          "height": 320
        },
        "id": "bRc01VPvntvY",
        "outputId": "7ccad69a-963d-4c6e-f23e-de1ace6e8207"
      },
      "outputs": [
        {
          "output_type": "execute_result",
          "data": {
            "text/plain": [
              "<matplotlib.legend.Legend at 0x7fa304792b50>"
            ]
          },
          "metadata": {},
          "execution_count": 33
        },
        {
          "output_type": "display_data",
          "data": {
            "text/plain": [
              "<Figure size 432x288 with 1 Axes>"
            ],
            "image/png": "[encoded data removed]"
          },
          "metadata": {}
        }
      ],
      "source": [
        "from sklearn.metrics import roc_curve, roc_auc_score\n",
        "y_pred_proba = lr.predict_proba(X_test)[:][:,1]\n",
        "df_actual_predicted = pd.concat([pd.DataFrame(np.array(y_test), columns=['y_actual']), pd.DataFrame(y_pred_proba, columns=['y_pred_proba'])], axis=1)\n",
        "df_actual_predicted.index = y_test.index\n",
        "fpr, tpr, tr = roc_curve(df_actual_predicted['y_actual'], df_actual_predicted['y_pred_proba'])\n",
        "auc = roc_auc_score(df_actual_predicted['y_actual'], df_actual_predicted['y_pred_proba'])\n",
        "plt.plot(fpr, tpr, label='AUC = %0.4f' %auc)\n",
        "plt.plot(fpr, fpr, linestyle = '--', color='k')\n",
        "plt.xlabel('False Positive Rate')\n",
        "plt.ylabel('True Positive Rate')\n",
        "plt.title('ROC Curve', size = 15)\n",
        "plt.legend()"
      ]
    },
    {
      "cell_type": "code",
      "execution_count": null,
      "metadata": {
        "colab": {
          "base_uri": "https://localhost:8080/",
          "height": 363
        },
        "id": "AyjO5jYRn3Z5",
        "outputId": "c173980f-fed3-441a-c1ea-c27fa817bcd9"
      },
      "outputs": [
        {
          "output_type": "execute_result",
          "data": {
            "text/plain": [
              "   Prob of dont have stroke  Prob of have stroke\n",
              "0                  0.660099             0.339901\n",
              "1                  0.857559             0.142441\n",
              "2                  0.190897             0.809103\n",
              "3                  0.404390             0.595610\n",
              "4                  0.973273             0.026727\n",
              "5                  0.650847             0.349153\n",
              "6                  0.448314             0.551686\n",
              "7                  0.337225             0.662775\n",
              "8                  0.463951             0.536049\n",
              "9                  0.883201             0.116799"
            ],
            "text/html": [
              "\n",
              "  <div id=\"df-dceb2caf-67b1-4298-94cd-7881395a5979\">\n",
              "    <div class=\"colab-df-container\">\n",
              "      <div>\n",
              "<style scoped>\n",
              "    .dataframe tbody tr th:only-of-type {\n",
              "        vertical-align: middle;\n",
              "    }\n",
              "\n",
              "    .dataframe tbody tr th {\n",
              "        vertical-align: top;\n",
              "    }\n",
              "\n",
              "    .dataframe thead th {\n",
              "        text-align: right;\n",
              "    }\n",
              "</style>\n",
              "<table border=\"1\" class=\"dataframe\">\n",
              "  <thead>\n",
              "    <tr style=\"text-align: right;\">\n",
              "      <th></th>\n",
              "      <th>Prob of dont have stroke</th>\n",
              "      <th>Prob of have stroke</th>\n",
              "    </tr>\n",
              "  </thead>\n",
              "  <tbody>\n",
              "    <tr>\n",
              "      <th>0</th>\n",
              "      <td>0.660099</td>\n",
              "      <td>0.339901</td>\n",
              "    </tr>\n",
              "    <tr>\n",
              "      <th>1</th>\n",
              "      <td>0.857559</td>\n",
              "      <td>0.142441</td>\n",
              "    </tr>\n",
              "    <tr>\n",
              "      <th>2</th>\n",
              "      <td>0.190897</td>\n",
              "      <td>0.809103</td>\n",
              "    </tr>\n",
              "    <tr>\n",
              "      <th>3</th>\n",
              "      <td>0.404390</td>\n",
              "      <td>0.595610</td>\n",
              "    </tr>\n",
              "    <tr>\n",
              "      <th>4</th>\n",
              "      <td>0.973273</td>\n",
              "      <td>0.026727</td>\n",
              "    </tr>\n",
              "    <tr>\n",
              "      <th>5</th>\n",
              "      <td>0.650847</td>\n",
              "      <td>0.349153</td>\n",
              "    </tr>\n",
              "    <tr>\n",
              "      <th>6</th>\n",
              "      <td>0.448314</td>\n",
              "      <td>0.551686</td>\n",
              "    </tr>\n",
              "    <tr>\n",
              "      <th>7</th>\n",
              "      <td>0.337225</td>\n",
              "      <td>0.662775</td>\n",
              "    </tr>\n",
              "    <tr>\n",
              "      <th>8</th>\n",
              "      <td>0.463951</td>\n",
              "      <td>0.536049</td>\n",
              "    </tr>\n",
              "    <tr>\n",
              "      <th>9</th>\n",
              "      <td>0.883201</td>\n",
              "      <td>0.116799</td>\n",
              "    </tr>\n",
              "  </tbody>\n",
              "</table>\n",
              "</div>\n",
              "      <button class=\"colab-df-convert\" onclick=\"convertToInteractive('df-dceb2caf-67b1-4298-94cd-7881395a5979')\"\n",
              "              title=\"Convert this dataframe to an interactive table.\"\n",
              "              style=\"display:none;\">\n",
              "        \n",
              "  <svg xmlns=\"http://www.w3.org/2000/svg\" height=\"24px\"viewBox=\"0 0 24 24\"\n",
              "       width=\"24px\">\n",
              "    <path d=\"M0 0h24v24H0V0z\" fill=\"none\"/>\n",
              "    <path d=\"M18.56 5.44l.94 2.06.94-2.06 2.06-.94-2.06-.94-.94-2.06-.94 2.06-2.06.94zm-11 1L8.5 8.5l.94-2.06 2.06-.94-2.06-.94L8.5 2.5l-.94 2.06-2.06.94zm10 10l.94 2.06.94-2.06 2.06-.94-2.06-.94-.94-2.06-.94 2.06-2.06.94z\"/><path d=\"M17.41 7.96l-1.37-1.37c-.4-.4-.92-.59-1.43-.59-.52 0-1.04.2-1.43.59L10.3 9.45l-7.72 7.72c-.78.78-.78 2.05 0 2.83L4 21.41c.39.39.9.59 1.41.59.51 0 1.02-.2 1.41-.59l7.78-7.78 2.81-2.81c.8-.78.8-2.07 0-2.86zM5.41 20L4 18.59l7.72-7.72 1.47 1.35L5.41 20z\"/>\n",
              "  </svg>\n",
              "      </button>\n",
              "      \n",
              "  <style>\n",
              "    .colab-df-container {\n",
              "      display:flex;\n",
              "      flex-wrap:wrap;\n",
              "      gap: 12px;\n",
              "    }\n",
              "\n",
              "    .colab-df-convert {\n",
              "      background-color: #E8F0FE;\n",
              "      border: none;\n",
              "      border-radius: 50%;\n",
              "      cursor: pointer;\n",
              "      display: none;\n",
              "      fill: #1967D2;\n",
              "      height: 32px;\n",
              "      padding: 0 0 0 0;\n",
              "      width: 32px;\n",
              "    }\n",
              "\n",
              "    .colab-df-convert:hover {\n",
              "      background-color: #E2EBFA;\n",
              "      box-shadow: 0px 1px 2px rgba(60, 64, 67, 0.3), 0px 1px 3px 1px rgba(60, 64, 67, 0.15);\n",
              "      fill: #174EA6;\n",
              "    }\n",
              "\n",
              "    [theme=dark] .colab-df-convert {\n",
              "      background-color: #3B4455;\n",
              "      fill: #D2E3FC;\n",
              "    }\n",
              "\n",
              "    [theme=dark] .colab-df-convert:hover {\n",
              "      background-color: #434B5C;\n",
              "      box-shadow: 0px 1px 3px 1px rgba(0, 0, 0, 0.15);\n",
              "      filter: drop-shadow(0px 1px 2px rgba(0, 0, 0, 0.3));\n",
              "      fill: #FFFFFF;\n",
              "    }\n",
              "  </style>\n",
              "\n",
              "      <script>\n",
              "        const buttonEl =\n",
              "          document.querySelector('#df-dceb2caf-67b1-4298-94cd-7881395a5979 button.colab-df-convert');\n",
              "        buttonEl.style.display =\n",
              "          google.colab.kernel.accessAllowed ? 'block' : 'none';\n",
              "\n",
              "        async function convertToInteractive(key) {\n",
              "          const element = document.querySelector('#df-dceb2caf-67b1-4298-94cd-7881395a5979');\n",
              "          const dataTable =\n",
              "            await google.colab.kernel.invokeFunction('convertToInteractive',\n",
              "                                                     [key], {});\n",
              "          if (!dataTable) return;\n",
              "\n",
              "          const docLinkHtml = 'Like what you see? Visit the ' +\n",
              "            '<a target=\"_blank\" href=https://colab.research.google.com/notebooks/data_table.ipynb>data table notebook</a>'\n",
              "            + ' to learn more about interactive tables.';\n",
              "          element.innerHTML = '';\n",
              "          dataTable['output_type'] = 'display_data';\n",
              "          await google.colab.output.renderOutput(dataTable, element);\n",
              "          const docLink = document.createElement('div');\n",
              "          docLink.innerHTML = docLinkHtml;\n",
              "          element.appendChild(docLink);\n",
              "        }\n",
              "      </script>\n",
              "    </div>\n",
              "  </div>\n",
              "  "
            ]
          },
          "metadata": {},
          "execution_count": 34
        }
      ],
      "source": [
        "y_pred_prob = lr.predict_proba(X_test)[0:10]\n",
        "y_pred_prob_df = pd.DataFrame(data=y_pred_prob, columns=['Prob of dont have stroke', 'Prob of have stroke'])\n",
        "y_pred_prob_df"
      ]
    },
    {
      "cell_type": "code",
      "execution_count": null,
      "metadata": {
        "colab": {
          "base_uri": "https://localhost:8080/",
          "height": 318
        },
        "id": "XdKu2eKgq5p2",
        "outputId": "f2d04c2f-c8bd-4f0e-e11c-9135d6ef9b8c"
      },
      "outputs": [
        {
          "output_type": "execute_result",
          "data": {
            "text/plain": [
              "Text(0, 0.5, 'Frequency')"
            ]
          },
          "metadata": {},
          "execution_count": 35
        },
        {
          "output_type": "display_data",
          "data": {
            "text/plain": [
              "<Figure size 432x288 with 1 Axes>"
            ],
            "image/png": "[encoded data removed]"
          },
          "metadata": {}
        }
      ],
      "source": [
        "y_pred1 = lr.predict_proba(X_test)[:, 1]\n",
        "# adjust the font size \n",
        "plt.rcParams['font.size'] = 12\n",
        "# plot histogram with 10 bins\n",
        "plt.hist(y_pred1, bins = 10)\n",
        "# set the title of predicted probabilities\n",
        "plt.title('Histogram of predicted probabilities of stroke')\n",
        "# set the x-axis limit\n",
        "plt.xlim(0,1)\n",
        "# set the title\n",
        "plt.xlabel('Predicted probabilities of stroke')\n",
        "plt.ylabel('Frequency')"
      ]
    },
    {
      "cell_type": "markdown",
      "metadata": {
        "id": "j6xebcdRNhEn"
      },
      "source": [
        "#Predicting Stroke by Inputing number (Value)"
      ]
    },
    {
      "cell_type": "code",
      "execution_count": null,
      "metadata": {
        "colab": {
          "base_uri": "https://localhost:8080/",
          "height": 135
        },
        "id": "C6eqHkVNLz4t",
        "outputId": "bc79b1de-0b5a-49d7-92f2-f548b5ca49e5"
      },
      "outputs": [
        {
          "output_type": "stream",
          "name": "stderr",
          "text": [
            "/usr/local/lib/python3.7/dist-packages/sklearn/base.py:451: UserWarning: X does not have valid feature names, but LogisticRegression was fitted with feature names\n",
            "  \"X does not have valid feature names, but\"\n"
          ]
        },
        {
          "output_type": "execute_result",
          "data": {
            "text/plain": [
              "   Prob of dont have stroke  Prob of have stroke\n",
              "0                  0.425317             0.574683"
            ],
            "text/html": [
              "\n",
              "  <div id=\"df-b9ffc085-8866-4958-8385-bdd67125beaf\">\n",
              "    <div class=\"colab-df-container\">\n",
              "      <div>\n",
              "<style scoped>\n",
              "    .dataframe tbody tr th:only-of-type {\n",
              "        vertical-align: middle;\n",
              "    }\n",
              "\n",
              "    .dataframe tbody tr th {\n",
              "        vertical-align: top;\n",
              "    }\n",
              "\n",
              "    .dataframe thead th {\n",
              "        text-align: right;\n",
              "    }\n",
              "</style>\n",
              "<table border=\"1\" class=\"dataframe\">\n",
              "  <thead>\n",
              "    <tr style=\"text-align: right;\">\n",
              "      <th></th>\n",
              "      <th>Prob of dont have stroke</th>\n",
              "      <th>Prob of have stroke</th>\n",
              "    </tr>\n",
              "  </thead>\n",
              "  <tbody>\n",
              "    <tr>\n",
              "      <th>0</th>\n",
              "      <td>0.425317</td>\n",
              "      <td>0.574683</td>\n",
              "    </tr>\n",
              "  </tbody>\n",
              "</table>\n",
              "</div>\n",
              "      <button class=\"colab-df-convert\" onclick=\"convertToInteractive('df-b9ffc085-8866-4958-8385-bdd67125beaf')\"\n",
              "              title=\"Convert this dataframe to an interactive table.\"\n",
              "              style=\"display:none;\">\n",
              "        \n",
              "  <svg xmlns=\"http://www.w3.org/2000/svg\" height=\"24px\"viewBox=\"0 0 24 24\"\n",
              "       width=\"24px\">\n",
              "    <path d=\"M0 0h24v24H0V0z\" fill=\"none\"/>\n",
              "    <path d=\"M18.56 5.44l.94 2.06.94-2.06 2.06-.94-2.06-.94-.94-2.06-.94 2.06-2.06.94zm-11 1L8.5 8.5l.94-2.06 2.06-.94-2.06-.94L8.5 2.5l-.94 2.06-2.06.94zm10 10l.94 2.06.94-2.06 2.06-.94-2.06-.94-.94-2.06-.94 2.06-2.06.94z\"/><path d=\"M17.41 7.96l-1.37-1.37c-.4-.4-.92-.59-1.43-.59-.52 0-1.04.2-1.43.59L10.3 9.45l-7.72 7.72c-.78.78-.78 2.05 0 2.83L4 21.41c.39.39.9.59 1.41.59.51 0 1.02-.2 1.41-.59l7.78-7.78 2.81-2.81c.8-.78.8-2.07 0-2.86zM5.41 20L4 18.59l7.72-7.72 1.47 1.35L5.41 20z\"/>\n",
              "  </svg>\n",
              "      </button>\n",
              "      \n",
              "  <style>\n",
              "    .colab-df-container {\n",
              "      display:flex;\n",
              "      flex-wrap:wrap;\n",
              "      gap: 12px;\n",
              "    }\n",
              "\n",
              "    .colab-df-convert {\n",
              "      background-color: #E8F0FE;\n",
              "      border: none;\n",
              "      border-radius: 50%;\n",
              "      cursor: pointer;\n",
              "      display: none;\n",
              "      fill: #1967D2;\n",
              "      height: 32px;\n",
              "      padding: 0 0 0 0;\n",
              "      width: 32px;\n",
              "    }\n",
              "\n",
              "    .colab-df-convert:hover {\n",
              "      background-color: #E2EBFA;\n",
              "      box-shadow: 0px 1px 2px rgba(60, 64, 67, 0.3), 0px 1px 3px 1px rgba(60, 64, 67, 0.15);\n",
              "      fill: #174EA6;\n",
              "    }\n",
              "\n",
              "    [theme=dark] .colab-df-convert {\n",
              "      background-color: #3B4455;\n",
              "      fill: #D2E3FC;\n",
              "    }\n",
              "\n",
              "    [theme=dark] .colab-df-convert:hover {\n",
              "      background-color: #434B5C;\n",
              "      box-shadow: 0px 1px 3px 1px rgba(0, 0, 0, 0.15);\n",
              "      filter: drop-shadow(0px 1px 2px rgba(0, 0, 0, 0.3));\n",
              "      fill: #FFFFFF;\n",
              "    }\n",
              "  </style>\n",
              "\n",
              "      <script>\n",
              "        const buttonEl =\n",
              "          document.querySelector('#df-b9ffc085-8866-4958-8385-bdd67125beaf button.colab-df-convert');\n",
              "        buttonEl.style.display =\n",
              "          google.colab.kernel.accessAllowed ? 'block' : 'none';\n",
              "\n",
              "        async function convertToInteractive(key) {\n",
              "          const element = document.querySelector('#df-b9ffc085-8866-4958-8385-bdd67125beaf');\n",
              "          const dataTable =\n",
              "            await google.colab.kernel.invokeFunction('convertToInteractive',\n",
              "                                                     [key], {});\n",
              "          if (!dataTable) return;\n",
              "\n",
              "          const docLinkHtml = 'Like what you see? Visit the ' +\n",
              "            '<a target=\"_blank\" href=https://colab.research.google.com/notebooks/data_table.ipynb>data table notebook</a>'\n",
              "            + ' to learn more about interactive tables.';\n",
              "          element.innerHTML = '';\n",
              "          dataTable['output_type'] = 'display_data';\n",
              "          await google.colab.output.renderOutput(dataTable, element);\n",
              "          const docLink = document.createElement('div');\n",
              "          docLink.innerHTML = docLinkHtml;\n",
              "          element.appendChild(docLink);\n",
              "        }\n",
              "      </script>\n",
              "    </div>\n",
              "  </div>\n",
              "  "
            ]
          },
          "metadata": {},
          "execution_count": 36
        }
      ],
      "source": [
        "Xnew = [[1, 50, 0, 1, 0, 3, 1, 140, 25, 2]]\n",
        "y_pred_prob2 = lr.predict_proba(Xnew)\n",
        "y_pred_prob_df2 = pd.DataFrame(data=y_pred_prob2, columns=['Prob of dont have stroke', 'Prob of have stroke'])\n",
        "y_pred_prob_df2"
      ]
    },
    {
      "cell_type": "markdown",
      "source": [
        "#Random Forest"
      ],
      "metadata": {
        "id": "99OylW1y7EPH"
      }
    },
    {
      "cell_type": "code",
      "source": [
        "y_pred = rfc.predict(X_test)\n",
        "print(\"Classification report - \\n\", classification_report(y_test,y_pred))"
      ],
      "metadata": {
        "colab": {
          "base_uri": "https://localhost:8080/"
        },
        "id": "MfBOLiuG7Hc9",
        "outputId": "05a61528-cce9-49b0-df02-cf9a347ffb1b"
      },
      "execution_count": null,
      "outputs": [
        {
          "output_type": "stream",
          "name": "stdout",
          "text": [
            "Classification report - \n",
            "               precision    recall  f1-score   support\n",
            "\n",
            "           0       1.00      0.98      0.99       988\n",
            "           1       0.98      1.00      0.99       957\n",
            "\n",
            "    accuracy                           0.99      1945\n",
            "   macro avg       0.99      0.99      0.99      1945\n",
            "weighted avg       0.99      0.99      0.99      1945\n",
            "\n"
          ]
        }
      ]
    },
    {
      "cell_type": "code",
      "source": [
        "cm = confusion_matrix(y_test, y_pred)\n",
        "plt.figure(figsize=(5,5))\n",
        "sns.heatmap(data=cm,linewidths=.5, annot=True,square = True,  cmap = 'Blues')\n",
        "plt.ylabel('Actual label')\n",
        "plt.xlabel('Predicted label')\n",
        "all_sample_title = 'Accuracy Score: {0}'.format(rfc.score(X_test, y_test)*100)\n",
        "plt.title(all_sample_title, size = 15)"
      ],
      "metadata": {
        "colab": {
          "base_uri": "https://localhost:8080/",
          "height": 332
        },
        "id": "qFSS42sB7LXi",
        "outputId": "654545db-309b-415c-865e-e1c152e591e7"
      },
      "execution_count": null,
      "outputs": [
        {
          "output_type": "execute_result",
          "data": {
            "text/plain": [
              "Text(0.5, 1.0, 'Accuracy Score: 98.92030848329048')"
            ]
          },
          "metadata": {},
          "execution_count": 38
        },
        {
          "output_type": "display_data",
          "data": {
            "text/plain": [
              "<Figure size 360x360 with 2 Axes>"
            ],
            "image/png": "[encoded data removed]"
          },
          "metadata": {}
        }
      ]
    },
    {
      "cell_type": "code",
      "source": [
        "from sklearn.metrics import roc_curve, roc_auc_score\n",
        "y_pred_proba = rfc.predict_proba(X_test)[:][:,1]\n",
        "df_actual_predicted = pd.concat([pd.DataFrame(np.array(y_test), columns=['y_actual']), pd.DataFrame(y_pred_proba, columns=['y_pred_proba'])], axis=1)\n",
        "df_actual_predicted.index = y_test.index\n",
        "fpr, tpr, tr = roc_curve(df_actual_predicted['y_actual'], df_actual_predicted['y_pred_proba'])\n",
        "auc = roc_auc_score(df_actual_predicted['y_actual'], df_actual_predicted['y_pred_proba'])\n",
        "plt.plot(fpr, tpr, label='AUC = %0.4f' %auc)\n",
        "plt.plot(fpr, fpr, linestyle = '--', color='k')\n",
        "plt.xlabel('False Positive Rate')\n",
        "plt.ylabel('True Positive Rate')\n",
        "plt.title('ROC Curve', size = 15)\n",
        "plt.legend()"
      ],
      "metadata": {
        "colab": {
          "base_uri": "https://localhost:8080/",
          "height": 320
        },
        "id": "4-JuGYnC7RDA",
        "outputId": "1478254c-953c-4af3-c790-f012e795a85d"
      },
      "execution_count": null,
      "outputs": [
        {
          "output_type": "execute_result",
          "data": {
            "text/plain": [
              "<matplotlib.legend.Legend at 0x7fa2f96447d0>"
            ]
          },
          "metadata": {},
          "execution_count": 39
        },
        {
          "output_type": "display_data",
          "data": {
            "text/plain": [
              "<Figure size 432x288 with 1 Axes>"
            ],
            "image/png": "[encoded data removed]"
          },
          "metadata": {}
        }
      ]
    },
    {
      "cell_type": "code",
      "source": [
        "#Feature Importance\n",
        "imp_df = pd.DataFrame({\n",
        "    \"Feature Name\": X_train.columns,\n",
        "    \"Importance\": rfc.feature_importances_\n",
        "})\n",
        "imp_df.sort_values(by=\"Importance\", ascending=False)"
      ],
      "metadata": {
        "colab": {
          "base_uri": "https://localhost:8080/",
          "height": 363
        },
        "id": "cPm-U0M67W94",
        "outputId": "6e96329b-2e59-4f22-a87d-58a4587811dc"
      },
      "execution_count": null,
      "outputs": [
        {
          "output_type": "execute_result",
          "data": {
            "text/plain": [
              "        Feature Name  Importance\n",
              "1                age    0.398422\n",
              "7  avg_glucose_level    0.199334\n",
              "8                bmi    0.176850\n",
              "9     smoking_status    0.051561\n",
              "5          work_type    0.046476\n",
              "4       ever_married    0.035515\n",
              "2       hypertension    0.028047\n",
              "0             gender    0.022215\n",
              "6     Residence_type    0.021167\n",
              "3      heart_disease    0.020412"
            ],
            "text/html": [
              "\n",
              "  <div id=\"df-3c755803-53d5-4799-97a7-e15c99fcb2c2\">\n",
              "    <div class=\"colab-df-container\">\n",
              "      <div>\n",
              "<style scoped>\n",
              "    .dataframe tbody tr th:only-of-type {\n",
              "        vertical-align: middle;\n",
              "    }\n",
              "\n",
              "    .dataframe tbody tr th {\n",
              "        vertical-align: top;\n",
              "    }\n",
              "\n",
              "    .dataframe thead th {\n",
              "        text-align: right;\n",
              "    }\n",
              "</style>\n",
              "<table border=\"1\" class=\"dataframe\">\n",
              "  <thead>\n",
              "    <tr style=\"text-align: right;\">\n",
              "      <th></th>\n",
              "      <th>Feature Name</th>\n",
              "      <th>Importance</th>\n",
              "    </tr>\n",
              "  </thead>\n",
              "  <tbody>\n",
              "    <tr>\n",
              "      <th>1</th>\n",
              "      <td>age</td>\n",
              "      <td>0.398422</td>\n",
              "    </tr>\n",
              "    <tr>\n",
              "      <th>7</th>\n",
              "      <td>avg_glucose_level</td>\n",
              "      <td>0.199334</td>\n",
              "    </tr>\n",
              "    <tr>\n",
              "      <th>8</th>\n",
              "      <td>bmi</td>\n",
              "      <td>0.176850</td>\n",
              "    </tr>\n",
              "    <tr>\n",
              "      <th>9</th>\n",
              "      <td>smoking_status</td>\n",
              "      <td>0.051561</td>\n",
              "    </tr>\n",
              "    <tr>\n",
              "      <th>5</th>\n",
              "      <td>work_type</td>\n",
              "      <td>0.046476</td>\n",
              "    </tr>\n",
              "    <tr>\n",
              "      <th>4</th>\n",
              "      <td>ever_married</td>\n",
              "      <td>0.035515</td>\n",
              "    </tr>\n",
              "    <tr>\n",
              "      <th>2</th>\n",
              "      <td>hypertension</td>\n",
              "      <td>0.028047</td>\n",
              "    </tr>\n",
              "    <tr>\n",
              "      <th>0</th>\n",
              "      <td>gender</td>\n",
              "      <td>0.022215</td>\n",
              "    </tr>\n",
              "    <tr>\n",
              "      <th>6</th>\n",
              "      <td>Residence_type</td>\n",
              "      <td>0.021167</td>\n",
              "    </tr>\n",
              "    <tr>\n",
              "      <th>3</th>\n",
              "      <td>heart_disease</td>\n",
              "      <td>0.020412</td>\n",
              "    </tr>\n",
              "  </tbody>\n",
              "</table>\n",
              "</div>\n",
              "      <button class=\"colab-df-convert\" onclick=\"convertToInteractive('df-3c755803-53d5-4799-97a7-e15c99fcb2c2')\"\n",
              "              title=\"Convert this dataframe to an interactive table.\"\n",
              "              style=\"display:none;\">\n",
              "        \n",
              "  <svg xmlns=\"http://www.w3.org/2000/svg\" height=\"24px\"viewBox=\"0 0 24 24\"\n",
              "       width=\"24px\">\n",
              "    <path d=\"M0 0h24v24H0V0z\" fill=\"none\"/>\n",
              "    <path d=\"M18.56 5.44l.94 2.06.94-2.06 2.06-.94-2.06-.94-.94-2.06-.94 2.06-2.06.94zm-11 1L8.5 8.5l.94-2.06 2.06-.94-2.06-.94L8.5 2.5l-.94 2.06-2.06.94zm10 10l.94 2.06.94-2.06 2.06-.94-2.06-.94-.94-2.06-.94 2.06-2.06.94z\"/><path d=\"M17.41 7.96l-1.37-1.37c-.4-.4-.92-.59-1.43-.59-.52 0-1.04.2-1.43.59L10.3 9.45l-7.72 7.72c-.78.78-.78 2.05 0 2.83L4 21.41c.39.39.9.59 1.41.59.51 0 1.02-.2 1.41-.59l7.78-7.78 2.81-2.81c.8-.78.8-2.07 0-2.86zM5.41 20L4 18.59l7.72-7.72 1.47 1.35L5.41 20z\"/>\n",
              "  </svg>\n",
              "      </button>\n",
              "      \n",
              "  <style>\n",
              "    .colab-df-container {\n",
              "      display:flex;\n",
              "      flex-wrap:wrap;\n",
              "      gap: 12px;\n",
              "    }\n",
              "\n",
              "    .colab-df-convert {\n",
              "      background-color: #E8F0FE;\n",
              "      border: none;\n",
              "      border-radius: 50%;\n",
              "      cursor: pointer;\n",
              "      display: none;\n",
              "      fill: #1967D2;\n",
              "      height: 32px;\n",
              "      padding: 0 0 0 0;\n",
              "      width: 32px;\n",
              "    }\n",
              "\n",
              "    .colab-df-convert:hover {\n",
              "      background-color: #E2EBFA;\n",
              "      box-shadow: 0px 1px 2px rgba(60, 64, 67, 0.3), 0px 1px 3px 1px rgba(60, 64, 67, 0.15);\n",
              "      fill: #174EA6;\n",
              "    }\n",
              "\n",
              "    [theme=dark] .colab-df-convert {\n",
              "      background-color: #3B4455;\n",
              "      fill: #D2E3FC;\n",
              "    }\n",
              "\n",
              "    [theme=dark] .colab-df-convert:hover {\n",
              "      background-color: #434B5C;\n",
              "      box-shadow: 0px 1px 3px 1px rgba(0, 0, 0, 0.15);\n",
              "      filter: drop-shadow(0px 1px 2px rgba(0, 0, 0, 0.3));\n",
              "      fill: #FFFFFF;\n",
              "    }\n",
              "  </style>\n",
              "\n",
              "      <script>\n",
              "        const buttonEl =\n",
              "          document.querySelector('#df-3c755803-53d5-4799-97a7-e15c99fcb2c2 button.colab-df-convert');\n",
              "        buttonEl.style.display =\n",
              "          google.colab.kernel.accessAllowed ? 'block' : 'none';\n",
              "\n",
              "        async function convertToInteractive(key) {\n",
              "          const element = document.querySelector('#df-3c755803-53d5-4799-97a7-e15c99fcb2c2');\n",
              "          const dataTable =\n",
              "            await google.colab.kernel.invokeFunction('convertToInteractive',\n",
              "                                                     [key], {});\n",
              "          if (!dataTable) return;\n",
              "\n",
              "          const docLinkHtml = 'Like what you see? Visit the ' +\n",
              "            '<a target=\"_blank\" href=https://colab.research.google.com/notebooks/data_table.ipynb>data table notebook</a>'\n",
              "            + ' to learn more about interactive tables.';\n",
              "          element.innerHTML = '';\n",
              "          dataTable['output_type'] = 'display_data';\n",
              "          await google.colab.output.renderOutput(dataTable, element);\n",
              "          const docLink = document.createElement('div');\n",
              "          docLink.innerHTML = docLinkHtml;\n",
              "          element.appendChild(docLink);\n",
              "        }\n",
              "      </script>\n",
              "    </div>\n",
              "  </div>\n",
              "  "
            ]
          },
          "metadata": {},
          "execution_count": 40
        }
      ]
    },
    {
      "cell_type": "code",
      "source": [
        "y_pred_prob = rfc.predict_proba(X_test)[0:10]\n",
        "y_pred_prob_df = pd.DataFrame(data=y_pred_prob, columns=['Prob of dont have stroke', 'Prob of have stroke'])\n",
        "y_pred_prob_df"
      ],
      "metadata": {
        "colab": {
          "base_uri": "https://localhost:8080/",
          "height": 363
        },
        "id": "ohUtYBfl7tdm",
        "outputId": "82c31b5d-38c9-4ac1-967c-1770105498ff"
      },
      "execution_count": null,
      "outputs": [
        {
          "output_type": "execute_result",
          "data": {
            "text/plain": [
              "   Prob of dont have stroke  Prob of have stroke\n",
              "0                      0.93                 0.07\n",
              "1                      1.00                 0.00\n",
              "2                      0.00                 1.00\n",
              "3                      0.94                 0.06\n",
              "4                      1.00                 0.00\n",
              "5                      0.99                 0.01\n",
              "6                      0.89                 0.11\n",
              "7                      0.91                 0.09\n",
              "8                      0.00                 1.00\n",
              "9                      1.00                 0.00"
            ],
            "text/html": [
              "\n",
              "  <div id=\"df-b29fd46a-2197-4e46-8c53-4f84c8b249b0\">\n",
              "    <div class=\"colab-df-container\">\n",
              "      <div>\n",
              "<style scoped>\n",
              "    .dataframe tbody tr th:only-of-type {\n",
              "        vertical-align: middle;\n",
              "    }\n",
              "\n",
              "    .dataframe tbody tr th {\n",
              "        vertical-align: top;\n",
              "    }\n",
              "\n",
              "    .dataframe thead th {\n",
              "        text-align: right;\n",
              "    }\n",
              "</style>\n",
              "<table border=\"1\" class=\"dataframe\">\n",
              "  <thead>\n",
              "    <tr style=\"text-align: right;\">\n",
              "      <th></th>\n",
              "      <th>Prob of dont have stroke</th>\n",
              "      <th>Prob of have stroke</th>\n",
              "    </tr>\n",
              "  </thead>\n",
              "  <tbody>\n",
              "    <tr>\n",
              "      <th>0</th>\n",
              "      <td>0.93</td>\n",
              "      <td>0.07</td>\n",
              "    </tr>\n",
              "    <tr>\n",
              "      <th>1</th>\n",
              "      <td>1.00</td>\n",
              "      <td>0.00</td>\n",
              "    </tr>\n",
              "    <tr>\n",
              "      <th>2</th>\n",
              "      <td>0.00</td>\n",
              "      <td>1.00</td>\n",
              "    </tr>\n",
              "    <tr>\n",
              "      <th>3</th>\n",
              "      <td>0.94</td>\n",
              "      <td>0.06</td>\n",
              "    </tr>\n",
              "    <tr>\n",
              "      <th>4</th>\n",
              "      <td>1.00</td>\n",
              "      <td>0.00</td>\n",
              "    </tr>\n",
              "    <tr>\n",
              "      <th>5</th>\n",
              "      <td>0.99</td>\n",
              "      <td>0.01</td>\n",
              "    </tr>\n",
              "    <tr>\n",
              "      <th>6</th>\n",
              "      <td>0.89</td>\n",
              "      <td>0.11</td>\n",
              "    </tr>\n",
              "    <tr>\n",
              "      <th>7</th>\n",
              "      <td>0.91</td>\n",
              "      <td>0.09</td>\n",
              "    </tr>\n",
              "    <tr>\n",
              "      <th>8</th>\n",
              "      <td>0.00</td>\n",
              "      <td>1.00</td>\n",
              "    </tr>\n",
              "    <tr>\n",
              "      <th>9</th>\n",
              "      <td>1.00</td>\n",
              "      <td>0.00</td>\n",
              "    </tr>\n",
              "  </tbody>\n",
              "</table>\n",
              "</div>\n",
              "      <button class=\"colab-df-convert\" onclick=\"convertToInteractive('df-b29fd46a-2197-4e46-8c53-4f84c8b249b0')\"\n",
              "              title=\"Convert this dataframe to an interactive table.\"\n",
              "              style=\"display:none;\">\n",
              "        \n",
              "  <svg xmlns=\"http://www.w3.org/2000/svg\" height=\"24px\"viewBox=\"0 0 24 24\"\n",
              "       width=\"24px\">\n",
              "    <path d=\"M0 0h24v24H0V0z\" fill=\"none\"/>\n",
              "    <path d=\"M18.56 5.44l.94 2.06.94-2.06 2.06-.94-2.06-.94-.94-2.06-.94 2.06-2.06.94zm-11 1L8.5 8.5l.94-2.06 2.06-.94-2.06-.94L8.5 2.5l-.94 2.06-2.06.94zm10 10l.94 2.06.94-2.06 2.06-.94-2.06-.94-.94-2.06-.94 2.06-2.06.94z\"/><path d=\"M17.41 7.96l-1.37-1.37c-.4-.4-.92-.59-1.43-.59-.52 0-1.04.2-1.43.59L10.3 9.45l-7.72 7.72c-.78.78-.78 2.05 0 2.83L4 21.41c.39.39.9.59 1.41.59.51 0 1.02-.2 1.41-.59l7.78-7.78 2.81-2.81c.8-.78.8-2.07 0-2.86zM5.41 20L4 18.59l7.72-7.72 1.47 1.35L5.41 20z\"/>\n",
              "  </svg>\n",
              "      </button>\n",
              "      \n",
              "  <style>\n",
              "    .colab-df-container {\n",
              "      display:flex;\n",
              "      flex-wrap:wrap;\n",
              "      gap: 12px;\n",
              "    }\n",
              "\n",
              "    .colab-df-convert {\n",
              "      background-color: #E8F0FE;\n",
              "      border: none;\n",
              "      border-radius: 50%;\n",
              "      cursor: pointer;\n",
              "      display: none;\n",
              "      fill: #1967D2;\n",
              "      height: 32px;\n",
              "      padding: 0 0 0 0;\n",
              "      width: 32px;\n",
              "    }\n",
              "\n",
              "    .colab-df-convert:hover {\n",
              "      background-color: #E2EBFA;\n",
              "      box-shadow: 0px 1px 2px rgba(60, 64, 67, 0.3), 0px 1px 3px 1px rgba(60, 64, 67, 0.15);\n",
              "      fill: #174EA6;\n",
              "    }\n",
              "\n",
              "    [theme=dark] .colab-df-convert {\n",
              "      background-color: #3B4455;\n",
              "      fill: #D2E3FC;\n",
              "    }\n",
              "\n",
              "    [theme=dark] .colab-df-convert:hover {\n",
              "      background-color: #434B5C;\n",
              "      box-shadow: 0px 1px 3px 1px rgba(0, 0, 0, 0.15);\n",
              "      filter: drop-shadow(0px 1px 2px rgba(0, 0, 0, 0.3));\n",
              "      fill: #FFFFFF;\n",
              "    }\n",
              "  </style>\n",
              "\n",
              "      <script>\n",
              "        const buttonEl =\n",
              "          document.querySelector('#df-b29fd46a-2197-4e46-8c53-4f84c8b249b0 button.colab-df-convert');\n",
              "        buttonEl.style.display =\n",
              "          google.colab.kernel.accessAllowed ? 'block' : 'none';\n",
              "\n",
              "        async function convertToInteractive(key) {\n",
              "          const element = document.querySelector('#df-b29fd46a-2197-4e46-8c53-4f84c8b249b0');\n",
              "          const dataTable =\n",
              "            await google.colab.kernel.invokeFunction('convertToInteractive',\n",
              "                                                     [key], {});\n",
              "          if (!dataTable) return;\n",
              "\n",
              "          const docLinkHtml = 'Like what you see? Visit the ' +\n",
              "            '<a target=\"_blank\" href=https://colab.research.google.com/notebooks/data_table.ipynb>data table notebook</a>'\n",
              "            + ' to learn more about interactive tables.';\n",
              "          element.innerHTML = '';\n",
              "          dataTable['output_type'] = 'display_data';\n",
              "          await google.colab.output.renderOutput(dataTable, element);\n",
              "          const docLink = document.createElement('div');\n",
              "          docLink.innerHTML = docLinkHtml;\n",
              "          element.appendChild(docLink);\n",
              "        }\n",
              "      </script>\n",
              "    </div>\n",
              "  </div>\n",
              "  "
            ]
          },
          "metadata": {},
          "execution_count": 41
        }
      ]
    },
    {
      "cell_type": "code",
      "source": [
        "y_pred2 = rfc.predict_proba(X_test)[:, 1]\n",
        "# adjust the font size \n",
        "plt.rcParams['font.size'] = 12\n",
        "# plot histogram with 10 bins\n",
        "plt.hist(y_pred2, bins = 10)\n",
        "# set the title of predicted probabilities\n",
        "plt.title('Histogram of predicted probabilities of stroke')\n",
        "# set the x-axis limit\n",
        "plt.xlim(0,1)\n",
        "# set the title\n",
        "plt.xlabel('Predicted probabilities of stroke')\n",
        "plt.ylabel('Frequency')"
      ],
      "metadata": {
        "colab": {
          "base_uri": "https://localhost:8080/",
          "height": 318
        },
        "id": "9uFsU8Xm74Nj",
        "outputId": "356feaea-1261-4f4d-8fbe-8fc5507f2634"
      },
      "execution_count": null,
      "outputs": [
        {
          "output_type": "execute_result",
          "data": {
            "text/plain": [
              "Text(0, 0.5, 'Frequency')"
            ]
          },
          "metadata": {},
          "execution_count": 42
        },
        {
          "output_type": "display_data",
          "data": {
            "text/plain": [
              "<Figure size 432x288 with 1 Axes>"
            ],
            "image/png": "[encoded data removed]"
          },
          "metadata": {}
        }
      ]
    },
    {
      "cell_type": "markdown",
      "source": [
        "#Predicting Stroke by Inputing number (Value)"
      ],
      "metadata": {
        "id": "4cBFz-FTOmnA"
      }
    },
    {
      "cell_type": "code",
      "source": [
        "Xnew2 = [[1, 70, 1, 1, 0, 3, 1, 100, 40, 2]]\n",
        "y_pred_prob3 = rfc.predict_proba(Xnew2)\n",
        "y_pred_prob_df3 = pd.DataFrame(data=y_pred_prob3, columns=['Prob of dont have stroke', 'Prob of have stroke'])\n",
        "y_pred_prob_df3"
      ],
      "metadata": {
        "colab": {
          "base_uri": "https://localhost:8080/",
          "height": 135
        },
        "id": "DNGUyozE8Gs-",
        "outputId": "176bc083-2e11-457e-b6bd-c314f92c5ae6"
      },
      "execution_count": null,
      "outputs": [
        {
          "output_type": "stream",
          "name": "stderr",
          "text": [
            "/usr/local/lib/python3.7/dist-packages/sklearn/base.py:451: UserWarning: X does not have valid feature names, but RandomForestClassifier was fitted with feature names\n",
            "  \"X does not have valid feature names, but\"\n"
          ]
        },
        {
          "output_type": "execute_result",
          "data": {
            "text/plain": [
              "   Prob of dont have stroke  Prob of have stroke\n",
              "0                      0.69                 0.31"
            ],
            "text/html": [
              "\n",
              "  <div id=\"df-5ce0a2ec-5ea1-4b12-b94f-757320f9a3d0\">\n",
              "    <div class=\"colab-df-container\">\n",
              "      <div>\n",
              "<style scoped>\n",
              "    .dataframe tbody tr th:only-of-type {\n",
              "        vertical-align: middle;\n",
              "    }\n",
              "\n",
              "    .dataframe tbody tr th {\n",
              "        vertical-align: top;\n",
              "    }\n",
              "\n",
              "    .dataframe thead th {\n",
              "        text-align: right;\n",
              "    }\n",
              "</style>\n",
              "<table border=\"1\" class=\"dataframe\">\n",
              "  <thead>\n",
              "    <tr style=\"text-align: right;\">\n",
              "      <th></th>\n",
              "      <th>Prob of dont have stroke</th>\n",
              "      <th>Prob of have stroke</th>\n",
              "    </tr>\n",
              "  </thead>\n",
              "  <tbody>\n",
              "    <tr>\n",
              "      <th>0</th>\n",
              "      <td>0.69</td>\n",
              "      <td>0.31</td>\n",
              "    </tr>\n",
              "  </tbody>\n",
              "</table>\n",
              "</div>\n",
              "      <button class=\"colab-df-convert\" onclick=\"convertToInteractive('df-5ce0a2ec-5ea1-4b12-b94f-757320f9a3d0')\"\n",
              "              title=\"Convert this dataframe to an interactive table.\"\n",
              "              style=\"display:none;\">\n",
              "        \n",
              "  <svg xmlns=\"http://www.w3.org/2000/svg\" height=\"24px\"viewBox=\"0 0 24 24\"\n",
              "       width=\"24px\">\n",
              "    <path d=\"M0 0h24v24H0V0z\" fill=\"none\"/>\n",
              "    <path d=\"M18.56 5.44l.94 2.06.94-2.06 2.06-.94-2.06-.94-.94-2.06-.94 2.06-2.06.94zm-11 1L8.5 8.5l.94-2.06 2.06-.94-2.06-.94L8.5 2.5l-.94 2.06-2.06.94zm10 10l.94 2.06.94-2.06 2.06-.94-2.06-.94-.94-2.06-.94 2.06-2.06.94z\"/><path d=\"M17.41 7.96l-1.37-1.37c-.4-.4-.92-.59-1.43-.59-.52 0-1.04.2-1.43.59L10.3 9.45l-7.72 7.72c-.78.78-.78 2.05 0 2.83L4 21.41c.39.39.9.59 1.41.59.51 0 1.02-.2 1.41-.59l7.78-7.78 2.81-2.81c.8-.78.8-2.07 0-2.86zM5.41 20L4 18.59l7.72-7.72 1.47 1.35L5.41 20z\"/>\n",
              "  </svg>\n",
              "      </button>\n",
              "      \n",
              "  <style>\n",
              "    .colab-df-container {\n",
              "      display:flex;\n",
              "      flex-wrap:wrap;\n",
              "      gap: 12px;\n",
              "    }\n",
              "\n",
              "    .colab-df-convert {\n",
              "      background-color: #E8F0FE;\n",
              "      border: none;\n",
              "      border-radius: 50%;\n",
              "      cursor: pointer;\n",
              "      display: none;\n",
              "      fill: #1967D2;\n",
              "      height: 32px;\n",
              "      padding: 0 0 0 0;\n",
              "      width: 32px;\n",
              "    }\n",
              "\n",
              "    .colab-df-convert:hover {\n",
              "      background-color: #E2EBFA;\n",
              "      box-shadow: 0px 1px 2px rgba(60, 64, 67, 0.3), 0px 1px 3px 1px rgba(60, 64, 67, 0.15);\n",
              "      fill: #174EA6;\n",
              "    }\n",
              "\n",
              "    [theme=dark] .colab-df-convert {\n",
              "      background-color: #3B4455;\n",
              "      fill: #D2E3FC;\n",
              "    }\n",
              "\n",
              "    [theme=dark] .colab-df-convert:hover {\n",
              "      background-color: #434B5C;\n",
              "      box-shadow: 0px 1px 3px 1px rgba(0, 0, 0, 0.15);\n",
              "      filter: drop-shadow(0px 1px 2px rgba(0, 0, 0, 0.3));\n",
              "      fill: #FFFFFF;\n",
              "    }\n",
              "  </style>\n",
              "\n",
              "      <script>\n",
              "        const buttonEl =\n",
              "          document.querySelector('#df-5ce0a2ec-5ea1-4b12-b94f-757320f9a3d0 button.colab-df-convert');\n",
              "        buttonEl.style.display =\n",
              "          google.colab.kernel.accessAllowed ? 'block' : 'none';\n",
              "\n",
              "        async function convertToInteractive(key) {\n",
              "          const element = document.querySelector('#df-5ce0a2ec-5ea1-4b12-b94f-757320f9a3d0');\n",
              "          const dataTable =\n",
              "            await google.colab.kernel.invokeFunction('convertToInteractive',\n",
              "                                                     [key], {});\n",
              "          if (!dataTable) return;\n",
              "\n",
              "          const docLinkHtml = 'Like what you see? Visit the ' +\n",
              "            '<a target=\"_blank\" href=https://colab.research.google.com/notebooks/data_table.ipynb>data table notebook</a>'\n",
              "            + ' to learn more about interactive tables.';\n",
              "          element.innerHTML = '';\n",
              "          dataTable['output_type'] = 'display_data';\n",
              "          await google.colab.output.renderOutput(dataTable, element);\n",
              "          const docLink = document.createElement('div');\n",
              "          docLink.innerHTML = docLinkHtml;\n",
              "          element.appendChild(docLink);\n",
              "        }\n",
              "      </script>\n",
              "    </div>\n",
              "  </div>\n",
              "  "
            ]
          },
          "metadata": {},
          "execution_count": 43
        }
      ]
    },
    {
      "cell_type": "code",
      "source": [
        "# Taking input from the user\n",
        "gender = input(\"Your Gender (0 = Female, 1 = Male) : \")\n",
        "age = input(\"Your Age : \")\n",
        "hypertension = input(\"Do you have hypertension ? (0 = No, 1 = Yes) : \")\n",
        "heart = input(\"Do you have heart disease ? (0 = No, 1 = Yes) :\")\n",
        "marry = input(\"Did you ever married ? (0 = No, 1 = Yes) :\")\n",
        "work = input(\"Your Worktype ? (0 = children, 1 = Government job, 2 = Never worked, 3 = Private, 4 = Self Employed) : \")\n",
        "residence = input(\"Your Residence type ? (0 = Rural, 1 = Urban) : \")\n",
        "avg = input(\"Average Glucose Level : \")\n",
        "bmi = input(\"Your BMI : \")\n",
        "smoke = input(\"Your Smoking status ? (0 = never smoked, 1 = formerly smoked, 2 = smokes, 3 = unknown) : \")\n",
        "\n",
        "Xnew3 = [[gender, age, hypertension, heart, marry, work, residence, avg, bmi, smoke]]\n",
        "\n",
        "\n",
        "y_pred_prob4 = rfc.predict_proba(Xnew3)\n",
        "y_pred_prob_df4 = pd.DataFrame(data=y_pred_prob4, columns=['Prob of dont have stroke', 'Prob of have stroke'])\n",
        "y_pred_prob_df4"
      ],
      "metadata": {
        "colab": {
          "base_uri": "https://localhost:8080/",
          "height": 309
        },
        "id": "k931xHuhzPCE",
        "outputId": "3d03ff2a-bfde-48da-dc1f-8e8a594ebddb"
      },
      "execution_count": null,
      "outputs": [
        {
          "name": "stdout",
          "output_type": "stream",
          "text": [
            "Your Gender (0 = Female, 1 = Male) : 1\n",
            "Your Age : 21\n",
            "Do you have hypertension ? (0 = No, 1 = Yes) : 0\n",
            "Do you have heart disease ? (0 = No, 1 = Yes) :0\n",
            "Did you ever married ? (0 = No, 1 = Yes) :0\n",
            "Your Worktype ? (0 = children, 1 = Government job, 2 = Never worked, 3 = Private, 4 = Self Employed) : 4\n",
            "Your Residence type ? (0 = Rural, 1 = Urban) : 1\n",
            "Average Glucose Level : 109\n",
            "Your BMI : 15\n",
            "Your Smoking status ? (0 = never smoked, 1 = formerly smoked, 2 = smokes, 3 = unknown) : 0\n"
          ]
        },
        {
          "output_type": "stream",
          "name": "stderr",
          "text": [
            "/usr/local/lib/python3.7/dist-packages/sklearn/base.py:451: UserWarning: X does not have valid feature names, but RandomForestClassifier was fitted with feature names\n",
            "  \"X does not have valid feature names, but\"\n"
          ]
        },
        {
          "output_type": "execute_result",
          "data": {
            "text/plain": [
              "   Prob of dont have stroke  Prob of have stroke\n",
              "0                      0.99                 0.01"
            ],
            "text/html": [
              "\n",
              "  <div id=\"df-5cbcc5d7-c48a-4e8c-a9e2-52d727301422\">\n",
              "    <div class=\"colab-df-container\">\n",
              "      <div>\n",
              "<style scoped>\n",
              "    .dataframe tbody tr th:only-of-type {\n",
              "        vertical-align: middle;\n",
              "    }\n",
              "\n",
              "    .dataframe tbody tr th {\n",
              "        vertical-align: top;\n",
              "    }\n",
              "\n",
              "    .dataframe thead th {\n",
              "        text-align: right;\n",
              "    }\n",
              "</style>\n",
              "<table border=\"1\" class=\"dataframe\">\n",
              "  <thead>\n",
              "    <tr style=\"text-align: right;\">\n",
              "      <th></th>\n",
              "      <th>Prob of dont have stroke</th>\n",
              "      <th>Prob of have stroke</th>\n",
              "    </tr>\n",
              "  </thead>\n",
              "  <tbody>\n",
              "    <tr>\n",
              "      <th>0</th>\n",
              "      <td>0.99</td>\n",
              "      <td>0.01</td>\n",
              "    </tr>\n",
              "  </tbody>\n",
              "</table>\n",
              "</div>\n",
              "      <button class=\"colab-df-convert\" onclick=\"convertToInteractive('df-5cbcc5d7-c48a-4e8c-a9e2-52d727301422')\"\n",
              "              title=\"Convert this dataframe to an interactive table.\"\n",
              "              style=\"display:none;\">\n",
              "        \n",
              "  <svg xmlns=\"http://www.w3.org/2000/svg\" height=\"24px\"viewBox=\"0 0 24 24\"\n",
              "       width=\"24px\">\n",
              "    <path d=\"M0 0h24v24H0V0z\" fill=\"none\"/>\n",
              "    <path d=\"M18.56 5.44l.94 2.06.94-2.06 2.06-.94-2.06-.94-.94-2.06-.94 2.06-2.06.94zm-11 1L8.5 8.5l.94-2.06 2.06-.94-2.06-.94L8.5 2.5l-.94 2.06-2.06.94zm10 10l.94 2.06.94-2.06 2.06-.94-2.06-.94-.94-2.06-.94 2.06-2.06.94z\"/><path d=\"M17.41 7.96l-1.37-1.37c-.4-.4-.92-.59-1.43-.59-.52 0-1.04.2-1.43.59L10.3 9.45l-7.72 7.72c-.78.78-.78 2.05 0 2.83L4 21.41c.39.39.9.59 1.41.59.51 0 1.02-.2 1.41-.59l7.78-7.78 2.81-2.81c.8-.78.8-2.07 0-2.86zM5.41 20L4 18.59l7.72-7.72 1.47 1.35L5.41 20z\"/>\n",
              "  </svg>\n",
              "      </button>\n",
              "      \n",
              "  <style>\n",
              "    .colab-df-container {\n",
              "      display:flex;\n",
              "      flex-wrap:wrap;\n",
              "      gap: 12px;\n",
              "    }\n",
              "\n",
              "    .colab-df-convert {\n",
              "      background-color: #E8F0FE;\n",
              "      border: none;\n",
              "      border-radius: 50%;\n",
              "      cursor: pointer;\n",
              "      display: none;\n",
              "      fill: #1967D2;\n",
              "      height: 32px;\n",
              "      padding: 0 0 0 0;\n",
              "      width: 32px;\n",
              "    }\n",
              "\n",
              "    .colab-df-convert:hover {\n",
              "      background-color: #E2EBFA;\n",
              "      box-shadow: 0px 1px 2px rgba(60, 64, 67, 0.3), 0px 1px 3px 1px rgba(60, 64, 67, 0.15);\n",
              "      fill: #174EA6;\n",
              "    }\n",
              "\n",
              "    [theme=dark] .colab-df-convert {\n",
              "      background-color: #3B4455;\n",
              "      fill: #D2E3FC;\n",
              "    }\n",
              "\n",
              "    [theme=dark] .colab-df-convert:hover {\n",
              "      background-color: #434B5C;\n",
              "      box-shadow: 0px 1px 3px 1px rgba(0, 0, 0, 0.15);\n",
              "      filter: drop-shadow(0px 1px 2px rgba(0, 0, 0, 0.3));\n",
              "      fill: #FFFFFF;\n",
              "    }\n",
              "  </style>\n",
              "\n",
              "      <script>\n",
              "        const buttonEl =\n",
              "          document.querySelector('#df-5cbcc5d7-c48a-4e8c-a9e2-52d727301422 button.colab-df-convert');\n",
              "        buttonEl.style.display =\n",
              "          google.colab.kernel.accessAllowed ? 'block' : 'none';\n",
              "\n",
              "        async function convertToInteractive(key) {\n",
              "          const element = document.querySelector('#df-5cbcc5d7-c48a-4e8c-a9e2-52d727301422');\n",
              "          const dataTable =\n",
              "            await google.colab.kernel.invokeFunction('convertToInteractive',\n",
              "                                                     [key], {});\n",
              "          if (!dataTable) return;\n",
              "\n",
              "          const docLinkHtml = 'Like what you see? Visit the ' +\n",
              "            '<a target=\"_blank\" href=https://colab.research.google.com/notebooks/data_table.ipynb>data table notebook</a>'\n",
              "            + ' to learn more about interactive tables.';\n",
              "          element.innerHTML = '';\n",
              "          dataTable['output_type'] = 'display_data';\n",
              "          await google.colab.output.renderOutput(dataTable, element);\n",
              "          const docLink = document.createElement('div');\n",
              "          docLink.innerHTML = docLinkHtml;\n",
              "          element.appendChild(docLink);\n",
              "        }\n",
              "      </script>\n",
              "    </div>\n",
              "  </div>\n",
              "  "
            ]
          },
          "metadata": {},
          "execution_count": 47
        }
      ]
    }
  ],
  "metadata": {
    "colab": {
      "provenance": []
    },
    "kernelspec": {
      "display_name": "Python 3",
      "name": "python3"
    },
    "language_info": {
      "name": "python"
    }
  },
  "nbformat": 4,
  "nbformat_minor": 0
}